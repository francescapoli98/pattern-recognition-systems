{
  "cells": [
    {
      "cell_type": "markdown",
      "metadata": {
        "id": "view-in-github",
        "colab_type": "text"
      },
      "source": [
        "<a href=\"https://colab.research.google.com/github/francescapoli98/pattern-recognition-systems/blob/main/m3_assignment5.ipynb\" target=\"_parent\"><img src=\"https://colab.research.google.com/assets/colab-badge.svg\" alt=\"Open In Colab\"/></a>"
      ]
    },
    {
      "cell_type": "markdown",
      "metadata": {
        "id": "W_l90Obuzyy4"
      },
      "source": [
        "# **Intelligent Systems for Pattern Recognition: midterm 3**\n",
        "#### Francesca Poli [560190]\n",
        "\n",
        "\n",
        "---\n",
        "\n",
        "\n",
        "## Fake News Classification\n",
        "\n",
        "\n",
        " **Assignment 5:**\n",
        "The [dataset](https://www.kaggle.com/datasets/clmentbisaillon/fake-and-real-news-dataset) contains real and fake news, including their *title, text, subject, and date.*\n",
        "\n",
        "The objective is to **train a binary classifier to recognize fake news**. You are free to choose the model's architecture, but you should describe and justify your design choices.\n",
        "\n",
        "Notice that the fake and real news in the dataset are balanced. However, in the real world, real news are much more frequent than fake ones (hopefully).\n",
        "\n",
        "Simulate the effect of the data imbalance by undersampling/oversampling one of the classes in the training set and compute the test accuracy on a (balanced) test set.\n",
        "\n",
        "Then, try to use a mechanism to make the training robust to imbalances, such as weighting the loss for the samples depending on their class. Discuss the results of this mitigation.\n",
        "\n",
        "NOTE ON *PREPROCESSING*: you are allowed to preprocess the data however you want (e.g. using pretrained embeddings, dropping some features, just a bag-of-words), but the classification model must be trained by yourself."
      ]
    },
    {
      "cell_type": "markdown",
      "source": [
        "# Binary Classifier"
      ],
      "metadata": {
        "id": "2whpYR7NQbgL"
      }
    },
    {
      "cell_type": "markdown",
      "metadata": {
        "id": "dtegj_Um0NMi"
      },
      "source": [
        "## Work setup"
      ]
    },
    {
      "cell_type": "code",
      "execution_count": null,
      "metadata": {
        "colab": {
          "base_uri": "https://localhost:8080/"
        },
        "id": "LGYonMno0ZeX",
        "outputId": "87a5aae3-6627-4c59-c43b-1498a3f7c602"
      },
      "outputs": [
        {
          "output_type": "stream",
          "name": "stdout",
          "text": [
            "Drive already mounted at /content/drive; to attempt to forcibly remount, call drive.mount(\"/content/drive\", force_remount=True).\n"
          ]
        }
      ],
      "source": [
        "from google.colab import drive\n",
        "drive.mount('/content/drive')"
      ]
    },
    {
      "cell_type": "code",
      "execution_count": null,
      "metadata": {
        "id": "ttNqMWpWZjXB"
      },
      "outputs": [],
      "source": [
        "#some useful libraries\n",
        "import numpy as np\n",
        "import pandas as pd\n",
        "import matplotlib.pyplot as plt\n",
        "import seaborn as sns\n",
        "import os\n",
        "\n",
        "#no warnings to distract us (checked before inserting the ignore filter)\n",
        "import warnings\n",
        "warnings.filterwarnings(\"ignore\")"
      ]
    },
    {
      "cell_type": "markdown",
      "metadata": {
        "id": "vXaboxtFZrUi"
      },
      "source": [
        "#### Loading of the dataset and work setup"
      ]
    },
    {
      "cell_type": "code",
      "execution_count": null,
      "metadata": {
        "id": "7EU1HpIzUH0i"
      },
      "outputs": [],
      "source": [
        "fake_news = pd.read_csv('/content/drive/MyDrive/ISPR/midterm 3 FAKE NEWS DET/archive/Fake.csv', header=None)\n",
        "true_news = pd.read_csv('/content/drive/MyDrive/ISPR/midterm 3 FAKE NEWS DET/archive/True.csv', header=None)"
      ]
    },
    {
      "cell_type": "code",
      "source": [
        "headers = fake_news.iloc[0]\n",
        "fake_news  = pd.DataFrame(fake_news.values[1:], columns=headers)"
      ],
      "metadata": {
        "id": "UdRsNMHUwaVT"
      },
      "execution_count": null,
      "outputs": []
    },
    {
      "cell_type": "code",
      "source": [
        "headers = true_news.iloc[0]\n",
        "true_news  = pd.DataFrame(true_news.values[1:], columns=headers)"
      ],
      "metadata": {
        "id": "KlL9Qd3NwcBe"
      },
      "execution_count": null,
      "outputs": []
    },
    {
      "cell_type": "code",
      "source": [
        "del fake_news['date']\n",
        "del true_news['date']"
      ],
      "metadata": {
        "id": "MsQS-m4WKWk0"
      },
      "execution_count": null,
      "outputs": []
    },
    {
      "cell_type": "code",
      "source": [
        "fake_news.info()\n",
        "true_news.info()"
      ],
      "metadata": {
        "colab": {
          "base_uri": "https://localhost:8080/"
        },
        "id": "q5AsXpz4KrEy",
        "outputId": "c2a12e67-00eb-4b9d-c32e-c390428ba0b7"
      },
      "execution_count": null,
      "outputs": [
        {
          "output_type": "stream",
          "name": "stdout",
          "text": [
            "<class 'pandas.core.frame.DataFrame'>\n",
            "RangeIndex: 23481 entries, 0 to 23480\n",
            "Data columns (total 3 columns):\n",
            " #   Column   Non-Null Count  Dtype \n",
            "---  ------   --------------  ----- \n",
            " 0   title    23481 non-null  object\n",
            " 1   text     23481 non-null  object\n",
            " 2   subject  23481 non-null  object\n",
            "dtypes: object(3)\n",
            "memory usage: 550.5+ KB\n",
            "<class 'pandas.core.frame.DataFrame'>\n",
            "RangeIndex: 21417 entries, 0 to 21416\n",
            "Data columns (total 3 columns):\n",
            " #   Column   Non-Null Count  Dtype \n",
            "---  ------   --------------  ----- \n",
            " 0   title    21417 non-null  object\n",
            " 1   text     21417 non-null  object\n",
            " 2   subject  21417 non-null  object\n",
            "dtypes: object(3)\n",
            "memory usage: 502.1+ KB\n"
          ]
        }
      ]
    },
    {
      "cell_type": "code",
      "source": [
        "fake_news"
      ],
      "metadata": {
        "colab": {
          "base_uri": "https://localhost:8080/",
          "height": 423
        },
        "id": "oEqq_SCVKzKY",
        "outputId": "875837fd-47c4-4ad6-db8f-1a298648e4e3"
      },
      "execution_count": null,
      "outputs": [
        {
          "output_type": "execute_result",
          "data": {
            "text/plain": [
              "0                                                  title  \\\n",
              "0       Donald Trump Sends Out Embarrassing New Year’...   \n",
              "1       Drunk Bragging Trump Staffer Started Russian ...   \n",
              "2       Sheriff David Clarke Becomes An Internet Joke...   \n",
              "3       Trump Is So Obsessed He Even Has Obama’s Name...   \n",
              "4       Pope Francis Just Called Out Donald Trump Dur...   \n",
              "...                                                  ...   \n",
              "23476  McPain: John McCain Furious That Iran Treated ...   \n",
              "23477  JUSTICE? Yahoo Settles E-mail Privacy Class-ac...   \n",
              "23478  Sunnistan: US and Allied ‘Safe Zone’ Plan to T...   \n",
              "23479  How to Blow $700 Million: Al Jazeera America F...   \n",
              "23480  10 U.S. Navy Sailors Held by Iranian Military ...   \n",
              "\n",
              "0                                                   text      subject  \n",
              "0      Donald Trump just couldn t wish all Americans ...         News  \n",
              "1      House Intelligence Committee Chairman Devin Nu...         News  \n",
              "2      On Friday, it was revealed that former Milwauk...         News  \n",
              "3      On Christmas day, Donald Trump announced that ...         News  \n",
              "4      Pope Francis used his annual Christmas Day mes...         News  \n",
              "...                                                  ...          ...  \n",
              "23476  21st Century Wire says As 21WIRE reported earl...  Middle-east  \n",
              "23477  21st Century Wire says It s a familiar theme. ...  Middle-east  \n",
              "23478  Patrick Henningsen  21st Century WireRemember ...  Middle-east  \n",
              "23479  21st Century Wire says Al Jazeera America will...  Middle-east  \n",
              "23480  21st Century Wire says As 21WIRE predicted in ...  Middle-east  \n",
              "\n",
              "[23481 rows x 3 columns]"
            ],
            "text/html": [
              "\n",
              "  <div id=\"df-3556bf0a-b08c-43ab-bab1-a50571411bc2\">\n",
              "    <div class=\"colab-df-container\">\n",
              "      <div>\n",
              "<style scoped>\n",
              "    .dataframe tbody tr th:only-of-type {\n",
              "        vertical-align: middle;\n",
              "    }\n",
              "\n",
              "    .dataframe tbody tr th {\n",
              "        vertical-align: top;\n",
              "    }\n",
              "\n",
              "    .dataframe thead th {\n",
              "        text-align: right;\n",
              "    }\n",
              "</style>\n",
              "<table border=\"1\" class=\"dataframe\">\n",
              "  <thead>\n",
              "    <tr style=\"text-align: right;\">\n",
              "      <th></th>\n",
              "      <th>title</th>\n",
              "      <th>text</th>\n",
              "      <th>subject</th>\n",
              "    </tr>\n",
              "  </thead>\n",
              "  <tbody>\n",
              "    <tr>\n",
              "      <th>0</th>\n",
              "      <td>Donald Trump Sends Out Embarrassing New Year’...</td>\n",
              "      <td>Donald Trump just couldn t wish all Americans ...</td>\n",
              "      <td>News</td>\n",
              "    </tr>\n",
              "    <tr>\n",
              "      <th>1</th>\n",
              "      <td>Drunk Bragging Trump Staffer Started Russian ...</td>\n",
              "      <td>House Intelligence Committee Chairman Devin Nu...</td>\n",
              "      <td>News</td>\n",
              "    </tr>\n",
              "    <tr>\n",
              "      <th>2</th>\n",
              "      <td>Sheriff David Clarke Becomes An Internet Joke...</td>\n",
              "      <td>On Friday, it was revealed that former Milwauk...</td>\n",
              "      <td>News</td>\n",
              "    </tr>\n",
              "    <tr>\n",
              "      <th>3</th>\n",
              "      <td>Trump Is So Obsessed He Even Has Obama’s Name...</td>\n",
              "      <td>On Christmas day, Donald Trump announced that ...</td>\n",
              "      <td>News</td>\n",
              "    </tr>\n",
              "    <tr>\n",
              "      <th>4</th>\n",
              "      <td>Pope Francis Just Called Out Donald Trump Dur...</td>\n",
              "      <td>Pope Francis used his annual Christmas Day mes...</td>\n",
              "      <td>News</td>\n",
              "    </tr>\n",
              "    <tr>\n",
              "      <th>...</th>\n",
              "      <td>...</td>\n",
              "      <td>...</td>\n",
              "      <td>...</td>\n",
              "    </tr>\n",
              "    <tr>\n",
              "      <th>23476</th>\n",
              "      <td>McPain: John McCain Furious That Iran Treated ...</td>\n",
              "      <td>21st Century Wire says As 21WIRE reported earl...</td>\n",
              "      <td>Middle-east</td>\n",
              "    </tr>\n",
              "    <tr>\n",
              "      <th>23477</th>\n",
              "      <td>JUSTICE? Yahoo Settles E-mail Privacy Class-ac...</td>\n",
              "      <td>21st Century Wire says It s a familiar theme. ...</td>\n",
              "      <td>Middle-east</td>\n",
              "    </tr>\n",
              "    <tr>\n",
              "      <th>23478</th>\n",
              "      <td>Sunnistan: US and Allied ‘Safe Zone’ Plan to T...</td>\n",
              "      <td>Patrick Henningsen  21st Century WireRemember ...</td>\n",
              "      <td>Middle-east</td>\n",
              "    </tr>\n",
              "    <tr>\n",
              "      <th>23479</th>\n",
              "      <td>How to Blow $700 Million: Al Jazeera America F...</td>\n",
              "      <td>21st Century Wire says Al Jazeera America will...</td>\n",
              "      <td>Middle-east</td>\n",
              "    </tr>\n",
              "    <tr>\n",
              "      <th>23480</th>\n",
              "      <td>10 U.S. Navy Sailors Held by Iranian Military ...</td>\n",
              "      <td>21st Century Wire says As 21WIRE predicted in ...</td>\n",
              "      <td>Middle-east</td>\n",
              "    </tr>\n",
              "  </tbody>\n",
              "</table>\n",
              "<p>23481 rows × 3 columns</p>\n",
              "</div>\n",
              "      <button class=\"colab-df-convert\" onclick=\"convertToInteractive('df-3556bf0a-b08c-43ab-bab1-a50571411bc2')\"\n",
              "              title=\"Convert this dataframe to an interactive table.\"\n",
              "              style=\"display:none;\">\n",
              "        \n",
              "  <svg xmlns=\"http://www.w3.org/2000/svg\" height=\"24px\"viewBox=\"0 0 24 24\"\n",
              "       width=\"24px\">\n",
              "    <path d=\"M0 0h24v24H0V0z\" fill=\"none\"/>\n",
              "    <path d=\"M18.56 5.44l.94 2.06.94-2.06 2.06-.94-2.06-.94-.94-2.06-.94 2.06-2.06.94zm-11 1L8.5 8.5l.94-2.06 2.06-.94-2.06-.94L8.5 2.5l-.94 2.06-2.06.94zm10 10l.94 2.06.94-2.06 2.06-.94-2.06-.94-.94-2.06-.94 2.06-2.06.94z\"/><path d=\"M17.41 7.96l-1.37-1.37c-.4-.4-.92-.59-1.43-.59-.52 0-1.04.2-1.43.59L10.3 9.45l-7.72 7.72c-.78.78-.78 2.05 0 2.83L4 21.41c.39.39.9.59 1.41.59.51 0 1.02-.2 1.41-.59l7.78-7.78 2.81-2.81c.8-.78.8-2.07 0-2.86zM5.41 20L4 18.59l7.72-7.72 1.47 1.35L5.41 20z\"/>\n",
              "  </svg>\n",
              "      </button>\n",
              "      \n",
              "  <style>\n",
              "    .colab-df-container {\n",
              "      display:flex;\n",
              "      flex-wrap:wrap;\n",
              "      gap: 12px;\n",
              "    }\n",
              "\n",
              "    .colab-df-convert {\n",
              "      background-color: #E8F0FE;\n",
              "      border: none;\n",
              "      border-radius: 50%;\n",
              "      cursor: pointer;\n",
              "      display: none;\n",
              "      fill: #1967D2;\n",
              "      height: 32px;\n",
              "      padding: 0 0 0 0;\n",
              "      width: 32px;\n",
              "    }\n",
              "\n",
              "    .colab-df-convert:hover {\n",
              "      background-color: #E2EBFA;\n",
              "      box-shadow: 0px 1px 2px rgba(60, 64, 67, 0.3), 0px 1px 3px 1px rgba(60, 64, 67, 0.15);\n",
              "      fill: #174EA6;\n",
              "    }\n",
              "\n",
              "    [theme=dark] .colab-df-convert {\n",
              "      background-color: #3B4455;\n",
              "      fill: #D2E3FC;\n",
              "    }\n",
              "\n",
              "    [theme=dark] .colab-df-convert:hover {\n",
              "      background-color: #434B5C;\n",
              "      box-shadow: 0px 1px 3px 1px rgba(0, 0, 0, 0.15);\n",
              "      filter: drop-shadow(0px 1px 2px rgba(0, 0, 0, 0.3));\n",
              "      fill: #FFFFFF;\n",
              "    }\n",
              "  </style>\n",
              "\n",
              "      <script>\n",
              "        const buttonEl =\n",
              "          document.querySelector('#df-3556bf0a-b08c-43ab-bab1-a50571411bc2 button.colab-df-convert');\n",
              "        buttonEl.style.display =\n",
              "          google.colab.kernel.accessAllowed ? 'block' : 'none';\n",
              "\n",
              "        async function convertToInteractive(key) {\n",
              "          const element = document.querySelector('#df-3556bf0a-b08c-43ab-bab1-a50571411bc2');\n",
              "          const dataTable =\n",
              "            await google.colab.kernel.invokeFunction('convertToInteractive',\n",
              "                                                     [key], {});\n",
              "          if (!dataTable) return;\n",
              "\n",
              "          const docLinkHtml = 'Like what you see? Visit the ' +\n",
              "            '<a target=\"_blank\" href=https://colab.research.google.com/notebooks/data_table.ipynb>data table notebook</a>'\n",
              "            + ' to learn more about interactive tables.';\n",
              "          element.innerHTML = '';\n",
              "          dataTable['output_type'] = 'display_data';\n",
              "          await google.colab.output.renderOutput(dataTable, element);\n",
              "          const docLink = document.createElement('div');\n",
              "          docLink.innerHTML = docLinkHtml;\n",
              "          element.appendChild(docLink);\n",
              "        }\n",
              "      </script>\n",
              "    </div>\n",
              "  </div>\n",
              "  "
            ]
          },
          "metadata": {},
          "execution_count": 52
        }
      ]
    },
    {
      "cell_type": "code",
      "source": [
        "true_news"
      ],
      "metadata": {
        "colab": {
          "base_uri": "https://localhost:8080/",
          "height": 423
        },
        "id": "EXNh_p_dKuj0",
        "outputId": "917c9a73-eb40-4e2d-86fb-e78ca608179a"
      },
      "execution_count": null,
      "outputs": [
        {
          "output_type": "execute_result",
          "data": {
            "text/plain": [
              "0                                                  title  \\\n",
              "0      As U.S. budget fight looms, Republicans flip t...   \n",
              "1      U.S. military to accept transgender recruits o...   \n",
              "2      Senior U.S. Republican senator: 'Let Mr. Muell...   \n",
              "3      FBI Russia probe helped by Australian diplomat...   \n",
              "4      Trump wants Postal Service to charge 'much mor...   \n",
              "...                                                  ...   \n",
              "21412  'Fully committed' NATO backs new U.S. approach...   \n",
              "21413  LexisNexis withdrew two products from Chinese ...   \n",
              "21414  Minsk cultural hub becomes haven from authorities   \n",
              "21415  Vatican upbeat on possibility of Pope Francis ...   \n",
              "21416  Indonesia to buy $1.14 billion worth of Russia...   \n",
              "\n",
              "0                                                   text       subject  \n",
              "0      WASHINGTON (Reuters) - The head of a conservat...  politicsNews  \n",
              "1      WASHINGTON (Reuters) - Transgender people will...  politicsNews  \n",
              "2      WASHINGTON (Reuters) - The special counsel inv...  politicsNews  \n",
              "3      WASHINGTON (Reuters) - Trump campaign adviser ...  politicsNews  \n",
              "4      SEATTLE/WASHINGTON (Reuters) - President Donal...  politicsNews  \n",
              "...                                                  ...           ...  \n",
              "21412  BRUSSELS (Reuters) - NATO allies on Tuesday we...     worldnews  \n",
              "21413  LONDON (Reuters) - LexisNexis, a provider of l...     worldnews  \n",
              "21414  MINSK (Reuters) - In the shadow of disused Sov...     worldnews  \n",
              "21415  MOSCOW (Reuters) - Vatican Secretary of State ...     worldnews  \n",
              "21416  JAKARTA (Reuters) - Indonesia will buy 11 Sukh...     worldnews  \n",
              "\n",
              "[21417 rows x 3 columns]"
            ],
            "text/html": [
              "\n",
              "  <div id=\"df-5580c9d3-3199-4d06-b82d-1bde5183e833\">\n",
              "    <div class=\"colab-df-container\">\n",
              "      <div>\n",
              "<style scoped>\n",
              "    .dataframe tbody tr th:only-of-type {\n",
              "        vertical-align: middle;\n",
              "    }\n",
              "\n",
              "    .dataframe tbody tr th {\n",
              "        vertical-align: top;\n",
              "    }\n",
              "\n",
              "    .dataframe thead th {\n",
              "        text-align: right;\n",
              "    }\n",
              "</style>\n",
              "<table border=\"1\" class=\"dataframe\">\n",
              "  <thead>\n",
              "    <tr style=\"text-align: right;\">\n",
              "      <th></th>\n",
              "      <th>title</th>\n",
              "      <th>text</th>\n",
              "      <th>subject</th>\n",
              "    </tr>\n",
              "  </thead>\n",
              "  <tbody>\n",
              "    <tr>\n",
              "      <th>0</th>\n",
              "      <td>As U.S. budget fight looms, Republicans flip t...</td>\n",
              "      <td>WASHINGTON (Reuters) - The head of a conservat...</td>\n",
              "      <td>politicsNews</td>\n",
              "    </tr>\n",
              "    <tr>\n",
              "      <th>1</th>\n",
              "      <td>U.S. military to accept transgender recruits o...</td>\n",
              "      <td>WASHINGTON (Reuters) - Transgender people will...</td>\n",
              "      <td>politicsNews</td>\n",
              "    </tr>\n",
              "    <tr>\n",
              "      <th>2</th>\n",
              "      <td>Senior U.S. Republican senator: 'Let Mr. Muell...</td>\n",
              "      <td>WASHINGTON (Reuters) - The special counsel inv...</td>\n",
              "      <td>politicsNews</td>\n",
              "    </tr>\n",
              "    <tr>\n",
              "      <th>3</th>\n",
              "      <td>FBI Russia probe helped by Australian diplomat...</td>\n",
              "      <td>WASHINGTON (Reuters) - Trump campaign adviser ...</td>\n",
              "      <td>politicsNews</td>\n",
              "    </tr>\n",
              "    <tr>\n",
              "      <th>4</th>\n",
              "      <td>Trump wants Postal Service to charge 'much mor...</td>\n",
              "      <td>SEATTLE/WASHINGTON (Reuters) - President Donal...</td>\n",
              "      <td>politicsNews</td>\n",
              "    </tr>\n",
              "    <tr>\n",
              "      <th>...</th>\n",
              "      <td>...</td>\n",
              "      <td>...</td>\n",
              "      <td>...</td>\n",
              "    </tr>\n",
              "    <tr>\n",
              "      <th>21412</th>\n",
              "      <td>'Fully committed' NATO backs new U.S. approach...</td>\n",
              "      <td>BRUSSELS (Reuters) - NATO allies on Tuesday we...</td>\n",
              "      <td>worldnews</td>\n",
              "    </tr>\n",
              "    <tr>\n",
              "      <th>21413</th>\n",
              "      <td>LexisNexis withdrew two products from Chinese ...</td>\n",
              "      <td>LONDON (Reuters) - LexisNexis, a provider of l...</td>\n",
              "      <td>worldnews</td>\n",
              "    </tr>\n",
              "    <tr>\n",
              "      <th>21414</th>\n",
              "      <td>Minsk cultural hub becomes haven from authorities</td>\n",
              "      <td>MINSK (Reuters) - In the shadow of disused Sov...</td>\n",
              "      <td>worldnews</td>\n",
              "    </tr>\n",
              "    <tr>\n",
              "      <th>21415</th>\n",
              "      <td>Vatican upbeat on possibility of Pope Francis ...</td>\n",
              "      <td>MOSCOW (Reuters) - Vatican Secretary of State ...</td>\n",
              "      <td>worldnews</td>\n",
              "    </tr>\n",
              "    <tr>\n",
              "      <th>21416</th>\n",
              "      <td>Indonesia to buy $1.14 billion worth of Russia...</td>\n",
              "      <td>JAKARTA (Reuters) - Indonesia will buy 11 Sukh...</td>\n",
              "      <td>worldnews</td>\n",
              "    </tr>\n",
              "  </tbody>\n",
              "</table>\n",
              "<p>21417 rows × 3 columns</p>\n",
              "</div>\n",
              "      <button class=\"colab-df-convert\" onclick=\"convertToInteractive('df-5580c9d3-3199-4d06-b82d-1bde5183e833')\"\n",
              "              title=\"Convert this dataframe to an interactive table.\"\n",
              "              style=\"display:none;\">\n",
              "        \n",
              "  <svg xmlns=\"http://www.w3.org/2000/svg\" height=\"24px\"viewBox=\"0 0 24 24\"\n",
              "       width=\"24px\">\n",
              "    <path d=\"M0 0h24v24H0V0z\" fill=\"none\"/>\n",
              "    <path d=\"M18.56 5.44l.94 2.06.94-2.06 2.06-.94-2.06-.94-.94-2.06-.94 2.06-2.06.94zm-11 1L8.5 8.5l.94-2.06 2.06-.94-2.06-.94L8.5 2.5l-.94 2.06-2.06.94zm10 10l.94 2.06.94-2.06 2.06-.94-2.06-.94-.94-2.06-.94 2.06-2.06.94z\"/><path d=\"M17.41 7.96l-1.37-1.37c-.4-.4-.92-.59-1.43-.59-.52 0-1.04.2-1.43.59L10.3 9.45l-7.72 7.72c-.78.78-.78 2.05 0 2.83L4 21.41c.39.39.9.59 1.41.59.51 0 1.02-.2 1.41-.59l7.78-7.78 2.81-2.81c.8-.78.8-2.07 0-2.86zM5.41 20L4 18.59l7.72-7.72 1.47 1.35L5.41 20z\"/>\n",
              "  </svg>\n",
              "      </button>\n",
              "      \n",
              "  <style>\n",
              "    .colab-df-container {\n",
              "      display:flex;\n",
              "      flex-wrap:wrap;\n",
              "      gap: 12px;\n",
              "    }\n",
              "\n",
              "    .colab-df-convert {\n",
              "      background-color: #E8F0FE;\n",
              "      border: none;\n",
              "      border-radius: 50%;\n",
              "      cursor: pointer;\n",
              "      display: none;\n",
              "      fill: #1967D2;\n",
              "      height: 32px;\n",
              "      padding: 0 0 0 0;\n",
              "      width: 32px;\n",
              "    }\n",
              "\n",
              "    .colab-df-convert:hover {\n",
              "      background-color: #E2EBFA;\n",
              "      box-shadow: 0px 1px 2px rgba(60, 64, 67, 0.3), 0px 1px 3px 1px rgba(60, 64, 67, 0.15);\n",
              "      fill: #174EA6;\n",
              "    }\n",
              "\n",
              "    [theme=dark] .colab-df-convert {\n",
              "      background-color: #3B4455;\n",
              "      fill: #D2E3FC;\n",
              "    }\n",
              "\n",
              "    [theme=dark] .colab-df-convert:hover {\n",
              "      background-color: #434B5C;\n",
              "      box-shadow: 0px 1px 3px 1px rgba(0, 0, 0, 0.15);\n",
              "      filter: drop-shadow(0px 1px 2px rgba(0, 0, 0, 0.3));\n",
              "      fill: #FFFFFF;\n",
              "    }\n",
              "  </style>\n",
              "\n",
              "      <script>\n",
              "        const buttonEl =\n",
              "          document.querySelector('#df-5580c9d3-3199-4d06-b82d-1bde5183e833 button.colab-df-convert');\n",
              "        buttonEl.style.display =\n",
              "          google.colab.kernel.accessAllowed ? 'block' : 'none';\n",
              "\n",
              "        async function convertToInteractive(key) {\n",
              "          const element = document.querySelector('#df-5580c9d3-3199-4d06-b82d-1bde5183e833');\n",
              "          const dataTable =\n",
              "            await google.colab.kernel.invokeFunction('convertToInteractive',\n",
              "                                                     [key], {});\n",
              "          if (!dataTable) return;\n",
              "\n",
              "          const docLinkHtml = 'Like what you see? Visit the ' +\n",
              "            '<a target=\"_blank\" href=https://colab.research.google.com/notebooks/data_table.ipynb>data table notebook</a>'\n",
              "            + ' to learn more about interactive tables.';\n",
              "          element.innerHTML = '';\n",
              "          dataTable['output_type'] = 'display_data';\n",
              "          await google.colab.output.renderOutput(dataTable, element);\n",
              "          const docLink = document.createElement('div');\n",
              "          docLink.innerHTML = docLinkHtml;\n",
              "          element.appendChild(docLink);\n",
              "        }\n",
              "      </script>\n",
              "    </div>\n",
              "  </div>\n",
              "  "
            ]
          },
          "metadata": {},
          "execution_count": 53
        }
      ]
    },
    {
      "cell_type": "markdown",
      "source": [
        "## Data preprocessing"
      ],
      "metadata": {
        "id": "6o3YTvEmSeuZ"
      }
    },
    {
      "cell_type": "markdown",
      "source": [
        "Here are randomly selected a specified fraction of the total number of rows through the *pandas* method `sample()`.\n",
        "Let’s set `frac=0.80` for the fake news in order to get a random selection of the total rows from the dataframe, according to the assessment that:\n",
        "\n",
        "*the fake and real news in the dataset are balanced. However, in the real world, real news are much more frequent than fake ones (hopefully)*"
      ],
      "metadata": {
        "id": "-GRTvBokLbK4"
      }
    },
    {
      "cell_type": "code",
      "source": [
        "#true_samples = true_news.sample(frac=0.65)\n",
        "true_news['label'] = 0\n",
        "fake_news['label'] = 1\n",
        "true_news"
      ],
      "metadata": {
        "colab": {
          "base_uri": "https://localhost:8080/",
          "height": 423
        },
        "id": "KjS_4EqDLMGk",
        "outputId": "1fd6fb99-fa95-401d-be8c-dc6b3c91874d"
      },
      "execution_count": null,
      "outputs": [
        {
          "output_type": "execute_result",
          "data": {
            "text/plain": [
              "0                                                  title  \\\n",
              "0      As U.S. budget fight looms, Republicans flip t...   \n",
              "1      U.S. military to accept transgender recruits o...   \n",
              "2      Senior U.S. Republican senator: 'Let Mr. Muell...   \n",
              "3      FBI Russia probe helped by Australian diplomat...   \n",
              "4      Trump wants Postal Service to charge 'much mor...   \n",
              "...                                                  ...   \n",
              "21412  'Fully committed' NATO backs new U.S. approach...   \n",
              "21413  LexisNexis withdrew two products from Chinese ...   \n",
              "21414  Minsk cultural hub becomes haven from authorities   \n",
              "21415  Vatican upbeat on possibility of Pope Francis ...   \n",
              "21416  Indonesia to buy $1.14 billion worth of Russia...   \n",
              "\n",
              "0                                                   text       subject  label  \n",
              "0      WASHINGTON (Reuters) - The head of a conservat...  politicsNews      0  \n",
              "1      WASHINGTON (Reuters) - Transgender people will...  politicsNews      0  \n",
              "2      WASHINGTON (Reuters) - The special counsel inv...  politicsNews      0  \n",
              "3      WASHINGTON (Reuters) - Trump campaign adviser ...  politicsNews      0  \n",
              "4      SEATTLE/WASHINGTON (Reuters) - President Donal...  politicsNews      0  \n",
              "...                                                  ...           ...    ...  \n",
              "21412  BRUSSELS (Reuters) - NATO allies on Tuesday we...     worldnews      0  \n",
              "21413  LONDON (Reuters) - LexisNexis, a provider of l...     worldnews      0  \n",
              "21414  MINSK (Reuters) - In the shadow of disused Sov...     worldnews      0  \n",
              "21415  MOSCOW (Reuters) - Vatican Secretary of State ...     worldnews      0  \n",
              "21416  JAKARTA (Reuters) - Indonesia will buy 11 Sukh...     worldnews      0  \n",
              "\n",
              "[21417 rows x 4 columns]"
            ],
            "text/html": [
              "\n",
              "  <div id=\"df-ab0ca5de-988d-4093-b942-b9cdf8ee70dc\">\n",
              "    <div class=\"colab-df-container\">\n",
              "      <div>\n",
              "<style scoped>\n",
              "    .dataframe tbody tr th:only-of-type {\n",
              "        vertical-align: middle;\n",
              "    }\n",
              "\n",
              "    .dataframe tbody tr th {\n",
              "        vertical-align: top;\n",
              "    }\n",
              "\n",
              "    .dataframe thead th {\n",
              "        text-align: right;\n",
              "    }\n",
              "</style>\n",
              "<table border=\"1\" class=\"dataframe\">\n",
              "  <thead>\n",
              "    <tr style=\"text-align: right;\">\n",
              "      <th></th>\n",
              "      <th>title</th>\n",
              "      <th>text</th>\n",
              "      <th>subject</th>\n",
              "      <th>label</th>\n",
              "    </tr>\n",
              "  </thead>\n",
              "  <tbody>\n",
              "    <tr>\n",
              "      <th>0</th>\n",
              "      <td>As U.S. budget fight looms, Republicans flip t...</td>\n",
              "      <td>WASHINGTON (Reuters) - The head of a conservat...</td>\n",
              "      <td>politicsNews</td>\n",
              "      <td>0</td>\n",
              "    </tr>\n",
              "    <tr>\n",
              "      <th>1</th>\n",
              "      <td>U.S. military to accept transgender recruits o...</td>\n",
              "      <td>WASHINGTON (Reuters) - Transgender people will...</td>\n",
              "      <td>politicsNews</td>\n",
              "      <td>0</td>\n",
              "    </tr>\n",
              "    <tr>\n",
              "      <th>2</th>\n",
              "      <td>Senior U.S. Republican senator: 'Let Mr. Muell...</td>\n",
              "      <td>WASHINGTON (Reuters) - The special counsel inv...</td>\n",
              "      <td>politicsNews</td>\n",
              "      <td>0</td>\n",
              "    </tr>\n",
              "    <tr>\n",
              "      <th>3</th>\n",
              "      <td>FBI Russia probe helped by Australian diplomat...</td>\n",
              "      <td>WASHINGTON (Reuters) - Trump campaign adviser ...</td>\n",
              "      <td>politicsNews</td>\n",
              "      <td>0</td>\n",
              "    </tr>\n",
              "    <tr>\n",
              "      <th>4</th>\n",
              "      <td>Trump wants Postal Service to charge 'much mor...</td>\n",
              "      <td>SEATTLE/WASHINGTON (Reuters) - President Donal...</td>\n",
              "      <td>politicsNews</td>\n",
              "      <td>0</td>\n",
              "    </tr>\n",
              "    <tr>\n",
              "      <th>...</th>\n",
              "      <td>...</td>\n",
              "      <td>...</td>\n",
              "      <td>...</td>\n",
              "      <td>...</td>\n",
              "    </tr>\n",
              "    <tr>\n",
              "      <th>21412</th>\n",
              "      <td>'Fully committed' NATO backs new U.S. approach...</td>\n",
              "      <td>BRUSSELS (Reuters) - NATO allies on Tuesday we...</td>\n",
              "      <td>worldnews</td>\n",
              "      <td>0</td>\n",
              "    </tr>\n",
              "    <tr>\n",
              "      <th>21413</th>\n",
              "      <td>LexisNexis withdrew two products from Chinese ...</td>\n",
              "      <td>LONDON (Reuters) - LexisNexis, a provider of l...</td>\n",
              "      <td>worldnews</td>\n",
              "      <td>0</td>\n",
              "    </tr>\n",
              "    <tr>\n",
              "      <th>21414</th>\n",
              "      <td>Minsk cultural hub becomes haven from authorities</td>\n",
              "      <td>MINSK (Reuters) - In the shadow of disused Sov...</td>\n",
              "      <td>worldnews</td>\n",
              "      <td>0</td>\n",
              "    </tr>\n",
              "    <tr>\n",
              "      <th>21415</th>\n",
              "      <td>Vatican upbeat on possibility of Pope Francis ...</td>\n",
              "      <td>MOSCOW (Reuters) - Vatican Secretary of State ...</td>\n",
              "      <td>worldnews</td>\n",
              "      <td>0</td>\n",
              "    </tr>\n",
              "    <tr>\n",
              "      <th>21416</th>\n",
              "      <td>Indonesia to buy $1.14 billion worth of Russia...</td>\n",
              "      <td>JAKARTA (Reuters) - Indonesia will buy 11 Sukh...</td>\n",
              "      <td>worldnews</td>\n",
              "      <td>0</td>\n",
              "    </tr>\n",
              "  </tbody>\n",
              "</table>\n",
              "<p>21417 rows × 4 columns</p>\n",
              "</div>\n",
              "      <button class=\"colab-df-convert\" onclick=\"convertToInteractive('df-ab0ca5de-988d-4093-b942-b9cdf8ee70dc')\"\n",
              "              title=\"Convert this dataframe to an interactive table.\"\n",
              "              style=\"display:none;\">\n",
              "        \n",
              "  <svg xmlns=\"http://www.w3.org/2000/svg\" height=\"24px\"viewBox=\"0 0 24 24\"\n",
              "       width=\"24px\">\n",
              "    <path d=\"M0 0h24v24H0V0z\" fill=\"none\"/>\n",
              "    <path d=\"M18.56 5.44l.94 2.06.94-2.06 2.06-.94-2.06-.94-.94-2.06-.94 2.06-2.06.94zm-11 1L8.5 8.5l.94-2.06 2.06-.94-2.06-.94L8.5 2.5l-.94 2.06-2.06.94zm10 10l.94 2.06.94-2.06 2.06-.94-2.06-.94-.94-2.06-.94 2.06-2.06.94z\"/><path d=\"M17.41 7.96l-1.37-1.37c-.4-.4-.92-.59-1.43-.59-.52 0-1.04.2-1.43.59L10.3 9.45l-7.72 7.72c-.78.78-.78 2.05 0 2.83L4 21.41c.39.39.9.59 1.41.59.51 0 1.02-.2 1.41-.59l7.78-7.78 2.81-2.81c.8-.78.8-2.07 0-2.86zM5.41 20L4 18.59l7.72-7.72 1.47 1.35L5.41 20z\"/>\n",
              "  </svg>\n",
              "      </button>\n",
              "      \n",
              "  <style>\n",
              "    .colab-df-container {\n",
              "      display:flex;\n",
              "      flex-wrap:wrap;\n",
              "      gap: 12px;\n",
              "    }\n",
              "\n",
              "    .colab-df-convert {\n",
              "      background-color: #E8F0FE;\n",
              "      border: none;\n",
              "      border-radius: 50%;\n",
              "      cursor: pointer;\n",
              "      display: none;\n",
              "      fill: #1967D2;\n",
              "      height: 32px;\n",
              "      padding: 0 0 0 0;\n",
              "      width: 32px;\n",
              "    }\n",
              "\n",
              "    .colab-df-convert:hover {\n",
              "      background-color: #E2EBFA;\n",
              "      box-shadow: 0px 1px 2px rgba(60, 64, 67, 0.3), 0px 1px 3px 1px rgba(60, 64, 67, 0.15);\n",
              "      fill: #174EA6;\n",
              "    }\n",
              "\n",
              "    [theme=dark] .colab-df-convert {\n",
              "      background-color: #3B4455;\n",
              "      fill: #D2E3FC;\n",
              "    }\n",
              "\n",
              "    [theme=dark] .colab-df-convert:hover {\n",
              "      background-color: #434B5C;\n",
              "      box-shadow: 0px 1px 3px 1px rgba(0, 0, 0, 0.15);\n",
              "      filter: drop-shadow(0px 1px 2px rgba(0, 0, 0, 0.3));\n",
              "      fill: #FFFFFF;\n",
              "    }\n",
              "  </style>\n",
              "\n",
              "      <script>\n",
              "        const buttonEl =\n",
              "          document.querySelector('#df-ab0ca5de-988d-4093-b942-b9cdf8ee70dc button.colab-df-convert');\n",
              "        buttonEl.style.display =\n",
              "          google.colab.kernel.accessAllowed ? 'block' : 'none';\n",
              "\n",
              "        async function convertToInteractive(key) {\n",
              "          const element = document.querySelector('#df-ab0ca5de-988d-4093-b942-b9cdf8ee70dc');\n",
              "          const dataTable =\n",
              "            await google.colab.kernel.invokeFunction('convertToInteractive',\n",
              "                                                     [key], {});\n",
              "          if (!dataTable) return;\n",
              "\n",
              "          const docLinkHtml = 'Like what you see? Visit the ' +\n",
              "            '<a target=\"_blank\" href=https://colab.research.google.com/notebooks/data_table.ipynb>data table notebook</a>'\n",
              "            + ' to learn more about interactive tables.';\n",
              "          element.innerHTML = '';\n",
              "          dataTable['output_type'] = 'display_data';\n",
              "          await google.colab.output.renderOutput(dataTable, element);\n",
              "          const docLink = document.createElement('div');\n",
              "          docLink.innerHTML = docLinkHtml;\n",
              "          element.appendChild(docLink);\n",
              "        }\n",
              "      </script>\n",
              "    </div>\n",
              "  </div>\n",
              "  "
            ]
          },
          "metadata": {},
          "execution_count": 54
        }
      ]
    },
    {
      "cell_type": "code",
      "source": [
        "fake_samples = fake_news.sample(frac=0.60)\n",
        "fake_samples"
      ],
      "metadata": {
        "colab": {
          "base_uri": "https://localhost:8080/",
          "height": 423
        },
        "id": "sX7KMcAJC2hu",
        "outputId": "9460f58f-9228-4a6e-f437-dc18d0760eab"
      },
      "execution_count": null,
      "outputs": [
        {
          "output_type": "execute_result",
          "data": {
            "text/plain": [
              "0                                                  title  \\\n",
              "15137  Colin Powell Jokes About Why He’s Still A Repu...   \n",
              "18340  DONALD TRUMP JR. Releases Emails Related To Ru...   \n",
              "13891  WATCH: FORMER TRUMP GIRLFRIEND Sets The Record...   \n",
              "21972  Reflections on a World Gone Mad and Pushing Ba...   \n",
              "8976    Tennessee GOP Lawmaker Offers To Fund Bundy T...   \n",
              "...                                                  ...   \n",
              "16212  A MUST WATCH! JUDGE NAPOLITANO: “For the first...   \n",
              "21008  MUSLIMS CRITICIZE New State Law That Permanent...   \n",
              "1711    Trump State Campaign Chair In Hot Water For T...   \n",
              "16531  JUDGE JEANINE PIRRO: “We’re tired of being lec...   \n",
              "4225    Close Trump Ally Just ADMITTED He Communicate...   \n",
              "\n",
              "0                                                   text          subject  \\\n",
              "15137  Colin Powell believes he s fooled us all into ...         politics   \n",
              "18340  Donald Trump Jr. took to Twitter today to rele...        left-news   \n",
              "13891  It s interesting how much vitriol some women h...         politics   \n",
              "21972   Andre Vltchek Anti DiplomaticoThe following i...          US_News   \n",
              "8976   Most Republican lawmakers have remained silent...             News   \n",
              "...                                                  ...              ...   \n",
              "16212                                                     Government News   \n",
              "21008  Maybe it s time for Muslim citizens and immigr...        left-news   \n",
              "1711   Donald Trump is himself, a pervert. We all kne...             News   \n",
              "16531  Next stop after BREXIT is the US! Judge Jeanin...  Government News   \n",
              "4225   Trump s supporters, and some in the press, bel...             News   \n",
              "\n",
              "0      label  \n",
              "15137      1  \n",
              "18340      1  \n",
              "13891      1  \n",
              "21972      1  \n",
              "8976       1  \n",
              "...      ...  \n",
              "16212      1  \n",
              "21008      1  \n",
              "1711       1  \n",
              "16531      1  \n",
              "4225       1  \n",
              "\n",
              "[14089 rows x 4 columns]"
            ],
            "text/html": [
              "\n",
              "  <div id=\"df-21c2ddb2-f4f4-4c22-9719-4f8d2e1df584\">\n",
              "    <div class=\"colab-df-container\">\n",
              "      <div>\n",
              "<style scoped>\n",
              "    .dataframe tbody tr th:only-of-type {\n",
              "        vertical-align: middle;\n",
              "    }\n",
              "\n",
              "    .dataframe tbody tr th {\n",
              "        vertical-align: top;\n",
              "    }\n",
              "\n",
              "    .dataframe thead th {\n",
              "        text-align: right;\n",
              "    }\n",
              "</style>\n",
              "<table border=\"1\" class=\"dataframe\">\n",
              "  <thead>\n",
              "    <tr style=\"text-align: right;\">\n",
              "      <th></th>\n",
              "      <th>title</th>\n",
              "      <th>text</th>\n",
              "      <th>subject</th>\n",
              "      <th>label</th>\n",
              "    </tr>\n",
              "  </thead>\n",
              "  <tbody>\n",
              "    <tr>\n",
              "      <th>15137</th>\n",
              "      <td>Colin Powell Jokes About Why He’s Still A Repu...</td>\n",
              "      <td>Colin Powell believes he s fooled us all into ...</td>\n",
              "      <td>politics</td>\n",
              "      <td>1</td>\n",
              "    </tr>\n",
              "    <tr>\n",
              "      <th>18340</th>\n",
              "      <td>DONALD TRUMP JR. Releases Emails Related To Ru...</td>\n",
              "      <td>Donald Trump Jr. took to Twitter today to rele...</td>\n",
              "      <td>left-news</td>\n",
              "      <td>1</td>\n",
              "    </tr>\n",
              "    <tr>\n",
              "      <th>13891</th>\n",
              "      <td>WATCH: FORMER TRUMP GIRLFRIEND Sets The Record...</td>\n",
              "      <td>It s interesting how much vitriol some women h...</td>\n",
              "      <td>politics</td>\n",
              "      <td>1</td>\n",
              "    </tr>\n",
              "    <tr>\n",
              "      <th>21972</th>\n",
              "      <td>Reflections on a World Gone Mad and Pushing Ba...</td>\n",
              "      <td>Andre Vltchek Anti DiplomaticoThe following i...</td>\n",
              "      <td>US_News</td>\n",
              "      <td>1</td>\n",
              "    </tr>\n",
              "    <tr>\n",
              "      <th>8976</th>\n",
              "      <td>Tennessee GOP Lawmaker Offers To Fund Bundy T...</td>\n",
              "      <td>Most Republican lawmakers have remained silent...</td>\n",
              "      <td>News</td>\n",
              "      <td>1</td>\n",
              "    </tr>\n",
              "    <tr>\n",
              "      <th>...</th>\n",
              "      <td>...</td>\n",
              "      <td>...</td>\n",
              "      <td>...</td>\n",
              "      <td>...</td>\n",
              "    </tr>\n",
              "    <tr>\n",
              "      <th>16212</th>\n",
              "      <td>A MUST WATCH! JUDGE NAPOLITANO: “For the first...</td>\n",
              "      <td></td>\n",
              "      <td>Government News</td>\n",
              "      <td>1</td>\n",
              "    </tr>\n",
              "    <tr>\n",
              "      <th>21008</th>\n",
              "      <td>MUSLIMS CRITICIZE New State Law That Permanent...</td>\n",
              "      <td>Maybe it s time for Muslim citizens and immigr...</td>\n",
              "      <td>left-news</td>\n",
              "      <td>1</td>\n",
              "    </tr>\n",
              "    <tr>\n",
              "      <th>1711</th>\n",
              "      <td>Trump State Campaign Chair In Hot Water For T...</td>\n",
              "      <td>Donald Trump is himself, a pervert. We all kne...</td>\n",
              "      <td>News</td>\n",
              "      <td>1</td>\n",
              "    </tr>\n",
              "    <tr>\n",
              "      <th>16531</th>\n",
              "      <td>JUDGE JEANINE PIRRO: “We’re tired of being lec...</td>\n",
              "      <td>Next stop after BREXIT is the US! Judge Jeanin...</td>\n",
              "      <td>Government News</td>\n",
              "      <td>1</td>\n",
              "    </tr>\n",
              "    <tr>\n",
              "      <th>4225</th>\n",
              "      <td>Close Trump Ally Just ADMITTED He Communicate...</td>\n",
              "      <td>Trump s supporters, and some in the press, bel...</td>\n",
              "      <td>News</td>\n",
              "      <td>1</td>\n",
              "    </tr>\n",
              "  </tbody>\n",
              "</table>\n",
              "<p>14089 rows × 4 columns</p>\n",
              "</div>\n",
              "      <button class=\"colab-df-convert\" onclick=\"convertToInteractive('df-21c2ddb2-f4f4-4c22-9719-4f8d2e1df584')\"\n",
              "              title=\"Convert this dataframe to an interactive table.\"\n",
              "              style=\"display:none;\">\n",
              "        \n",
              "  <svg xmlns=\"http://www.w3.org/2000/svg\" height=\"24px\"viewBox=\"0 0 24 24\"\n",
              "       width=\"24px\">\n",
              "    <path d=\"M0 0h24v24H0V0z\" fill=\"none\"/>\n",
              "    <path d=\"M18.56 5.44l.94 2.06.94-2.06 2.06-.94-2.06-.94-.94-2.06-.94 2.06-2.06.94zm-11 1L8.5 8.5l.94-2.06 2.06-.94-2.06-.94L8.5 2.5l-.94 2.06-2.06.94zm10 10l.94 2.06.94-2.06 2.06-.94-2.06-.94-.94-2.06-.94 2.06-2.06.94z\"/><path d=\"M17.41 7.96l-1.37-1.37c-.4-.4-.92-.59-1.43-.59-.52 0-1.04.2-1.43.59L10.3 9.45l-7.72 7.72c-.78.78-.78 2.05 0 2.83L4 21.41c.39.39.9.59 1.41.59.51 0 1.02-.2 1.41-.59l7.78-7.78 2.81-2.81c.8-.78.8-2.07 0-2.86zM5.41 20L4 18.59l7.72-7.72 1.47 1.35L5.41 20z\"/>\n",
              "  </svg>\n",
              "      </button>\n",
              "      \n",
              "  <style>\n",
              "    .colab-df-container {\n",
              "      display:flex;\n",
              "      flex-wrap:wrap;\n",
              "      gap: 12px;\n",
              "    }\n",
              "\n",
              "    .colab-df-convert {\n",
              "      background-color: #E8F0FE;\n",
              "      border: none;\n",
              "      border-radius: 50%;\n",
              "      cursor: pointer;\n",
              "      display: none;\n",
              "      fill: #1967D2;\n",
              "      height: 32px;\n",
              "      padding: 0 0 0 0;\n",
              "      width: 32px;\n",
              "    }\n",
              "\n",
              "    .colab-df-convert:hover {\n",
              "      background-color: #E2EBFA;\n",
              "      box-shadow: 0px 1px 2px rgba(60, 64, 67, 0.3), 0px 1px 3px 1px rgba(60, 64, 67, 0.15);\n",
              "      fill: #174EA6;\n",
              "    }\n",
              "\n",
              "    [theme=dark] .colab-df-convert {\n",
              "      background-color: #3B4455;\n",
              "      fill: #D2E3FC;\n",
              "    }\n",
              "\n",
              "    [theme=dark] .colab-df-convert:hover {\n",
              "      background-color: #434B5C;\n",
              "      box-shadow: 0px 1px 3px 1px rgba(0, 0, 0, 0.15);\n",
              "      filter: drop-shadow(0px 1px 2px rgba(0, 0, 0, 0.3));\n",
              "      fill: #FFFFFF;\n",
              "    }\n",
              "  </style>\n",
              "\n",
              "      <script>\n",
              "        const buttonEl =\n",
              "          document.querySelector('#df-21c2ddb2-f4f4-4c22-9719-4f8d2e1df584 button.colab-df-convert');\n",
              "        buttonEl.style.display =\n",
              "          google.colab.kernel.accessAllowed ? 'block' : 'none';\n",
              "\n",
              "        async function convertToInteractive(key) {\n",
              "          const element = document.querySelector('#df-21c2ddb2-f4f4-4c22-9719-4f8d2e1df584');\n",
              "          const dataTable =\n",
              "            await google.colab.kernel.invokeFunction('convertToInteractive',\n",
              "                                                     [key], {});\n",
              "          if (!dataTable) return;\n",
              "\n",
              "          const docLinkHtml = 'Like what you see? Visit the ' +\n",
              "            '<a target=\"_blank\" href=https://colab.research.google.com/notebooks/data_table.ipynb>data table notebook</a>'\n",
              "            + ' to learn more about interactive tables.';\n",
              "          element.innerHTML = '';\n",
              "          dataTable['output_type'] = 'display_data';\n",
              "          await google.colab.output.renderOutput(dataTable, element);\n",
              "          const docLink = document.createElement('div');\n",
              "          docLink.innerHTML = docLinkHtml;\n",
              "          element.appendChild(docLink);\n",
              "        }\n",
              "      </script>\n",
              "    </div>\n",
              "  </div>\n",
              "  "
            ]
          },
          "metadata": {},
          "execution_count": 55
        }
      ]
    },
    {
      "cell_type": "code",
      "source": [
        "news_df = pd.concat([fake_samples, true_news], axis=0)\n",
        "news_df"
      ],
      "metadata": {
        "colab": {
          "base_uri": "https://localhost:8080/",
          "height": 423
        },
        "id": "kx6Ej6g540J2",
        "outputId": "76ec303d-e7cb-44e9-86cd-1be3a48b769a"
      },
      "execution_count": null,
      "outputs": [
        {
          "output_type": "execute_result",
          "data": {
            "text/plain": [
              "0                                                  title  \\\n",
              "15137  Colin Powell Jokes About Why He’s Still A Repu...   \n",
              "18340  DONALD TRUMP JR. Releases Emails Related To Ru...   \n",
              "13891  WATCH: FORMER TRUMP GIRLFRIEND Sets The Record...   \n",
              "21972  Reflections on a World Gone Mad and Pushing Ba...   \n",
              "8976    Tennessee GOP Lawmaker Offers To Fund Bundy T...   \n",
              "...                                                  ...   \n",
              "21412  'Fully committed' NATO backs new U.S. approach...   \n",
              "21413  LexisNexis withdrew two products from Chinese ...   \n",
              "21414  Minsk cultural hub becomes haven from authorities   \n",
              "21415  Vatican upbeat on possibility of Pope Francis ...   \n",
              "21416  Indonesia to buy $1.14 billion worth of Russia...   \n",
              "\n",
              "0                                                   text    subject  label  \n",
              "15137  Colin Powell believes he s fooled us all into ...   politics      1  \n",
              "18340  Donald Trump Jr. took to Twitter today to rele...  left-news      1  \n",
              "13891  It s interesting how much vitriol some women h...   politics      1  \n",
              "21972   Andre Vltchek Anti DiplomaticoThe following i...    US_News      1  \n",
              "8976   Most Republican lawmakers have remained silent...       News      1  \n",
              "...                                                  ...        ...    ...  \n",
              "21412  BRUSSELS (Reuters) - NATO allies on Tuesday we...  worldnews      0  \n",
              "21413  LONDON (Reuters) - LexisNexis, a provider of l...  worldnews      0  \n",
              "21414  MINSK (Reuters) - In the shadow of disused Sov...  worldnews      0  \n",
              "21415  MOSCOW (Reuters) - Vatican Secretary of State ...  worldnews      0  \n",
              "21416  JAKARTA (Reuters) - Indonesia will buy 11 Sukh...  worldnews      0  \n",
              "\n",
              "[35506 rows x 4 columns]"
            ],
            "text/html": [
              "\n",
              "  <div id=\"df-2c6cc331-b205-435a-8b49-1d4ab0bb4bed\">\n",
              "    <div class=\"colab-df-container\">\n",
              "      <div>\n",
              "<style scoped>\n",
              "    .dataframe tbody tr th:only-of-type {\n",
              "        vertical-align: middle;\n",
              "    }\n",
              "\n",
              "    .dataframe tbody tr th {\n",
              "        vertical-align: top;\n",
              "    }\n",
              "\n",
              "    .dataframe thead th {\n",
              "        text-align: right;\n",
              "    }\n",
              "</style>\n",
              "<table border=\"1\" class=\"dataframe\">\n",
              "  <thead>\n",
              "    <tr style=\"text-align: right;\">\n",
              "      <th></th>\n",
              "      <th>title</th>\n",
              "      <th>text</th>\n",
              "      <th>subject</th>\n",
              "      <th>label</th>\n",
              "    </tr>\n",
              "  </thead>\n",
              "  <tbody>\n",
              "    <tr>\n",
              "      <th>15137</th>\n",
              "      <td>Colin Powell Jokes About Why He’s Still A Repu...</td>\n",
              "      <td>Colin Powell believes he s fooled us all into ...</td>\n",
              "      <td>politics</td>\n",
              "      <td>1</td>\n",
              "    </tr>\n",
              "    <tr>\n",
              "      <th>18340</th>\n",
              "      <td>DONALD TRUMP JR. Releases Emails Related To Ru...</td>\n",
              "      <td>Donald Trump Jr. took to Twitter today to rele...</td>\n",
              "      <td>left-news</td>\n",
              "      <td>1</td>\n",
              "    </tr>\n",
              "    <tr>\n",
              "      <th>13891</th>\n",
              "      <td>WATCH: FORMER TRUMP GIRLFRIEND Sets The Record...</td>\n",
              "      <td>It s interesting how much vitriol some women h...</td>\n",
              "      <td>politics</td>\n",
              "      <td>1</td>\n",
              "    </tr>\n",
              "    <tr>\n",
              "      <th>21972</th>\n",
              "      <td>Reflections on a World Gone Mad and Pushing Ba...</td>\n",
              "      <td>Andre Vltchek Anti DiplomaticoThe following i...</td>\n",
              "      <td>US_News</td>\n",
              "      <td>1</td>\n",
              "    </tr>\n",
              "    <tr>\n",
              "      <th>8976</th>\n",
              "      <td>Tennessee GOP Lawmaker Offers To Fund Bundy T...</td>\n",
              "      <td>Most Republican lawmakers have remained silent...</td>\n",
              "      <td>News</td>\n",
              "      <td>1</td>\n",
              "    </tr>\n",
              "    <tr>\n",
              "      <th>...</th>\n",
              "      <td>...</td>\n",
              "      <td>...</td>\n",
              "      <td>...</td>\n",
              "      <td>...</td>\n",
              "    </tr>\n",
              "    <tr>\n",
              "      <th>21412</th>\n",
              "      <td>'Fully committed' NATO backs new U.S. approach...</td>\n",
              "      <td>BRUSSELS (Reuters) - NATO allies on Tuesday we...</td>\n",
              "      <td>worldnews</td>\n",
              "      <td>0</td>\n",
              "    </tr>\n",
              "    <tr>\n",
              "      <th>21413</th>\n",
              "      <td>LexisNexis withdrew two products from Chinese ...</td>\n",
              "      <td>LONDON (Reuters) - LexisNexis, a provider of l...</td>\n",
              "      <td>worldnews</td>\n",
              "      <td>0</td>\n",
              "    </tr>\n",
              "    <tr>\n",
              "      <th>21414</th>\n",
              "      <td>Minsk cultural hub becomes haven from authorities</td>\n",
              "      <td>MINSK (Reuters) - In the shadow of disused Sov...</td>\n",
              "      <td>worldnews</td>\n",
              "      <td>0</td>\n",
              "    </tr>\n",
              "    <tr>\n",
              "      <th>21415</th>\n",
              "      <td>Vatican upbeat on possibility of Pope Francis ...</td>\n",
              "      <td>MOSCOW (Reuters) - Vatican Secretary of State ...</td>\n",
              "      <td>worldnews</td>\n",
              "      <td>0</td>\n",
              "    </tr>\n",
              "    <tr>\n",
              "      <th>21416</th>\n",
              "      <td>Indonesia to buy $1.14 billion worth of Russia...</td>\n",
              "      <td>JAKARTA (Reuters) - Indonesia will buy 11 Sukh...</td>\n",
              "      <td>worldnews</td>\n",
              "      <td>0</td>\n",
              "    </tr>\n",
              "  </tbody>\n",
              "</table>\n",
              "<p>35506 rows × 4 columns</p>\n",
              "</div>\n",
              "      <button class=\"colab-df-convert\" onclick=\"convertToInteractive('df-2c6cc331-b205-435a-8b49-1d4ab0bb4bed')\"\n",
              "              title=\"Convert this dataframe to an interactive table.\"\n",
              "              style=\"display:none;\">\n",
              "        \n",
              "  <svg xmlns=\"http://www.w3.org/2000/svg\" height=\"24px\"viewBox=\"0 0 24 24\"\n",
              "       width=\"24px\">\n",
              "    <path d=\"M0 0h24v24H0V0z\" fill=\"none\"/>\n",
              "    <path d=\"M18.56 5.44l.94 2.06.94-2.06 2.06-.94-2.06-.94-.94-2.06-.94 2.06-2.06.94zm-11 1L8.5 8.5l.94-2.06 2.06-.94-2.06-.94L8.5 2.5l-.94 2.06-2.06.94zm10 10l.94 2.06.94-2.06 2.06-.94-2.06-.94-.94-2.06-.94 2.06-2.06.94z\"/><path d=\"M17.41 7.96l-1.37-1.37c-.4-.4-.92-.59-1.43-.59-.52 0-1.04.2-1.43.59L10.3 9.45l-7.72 7.72c-.78.78-.78 2.05 0 2.83L4 21.41c.39.39.9.59 1.41.59.51 0 1.02-.2 1.41-.59l7.78-7.78 2.81-2.81c.8-.78.8-2.07 0-2.86zM5.41 20L4 18.59l7.72-7.72 1.47 1.35L5.41 20z\"/>\n",
              "  </svg>\n",
              "      </button>\n",
              "      \n",
              "  <style>\n",
              "    .colab-df-container {\n",
              "      display:flex;\n",
              "      flex-wrap:wrap;\n",
              "      gap: 12px;\n",
              "    }\n",
              "\n",
              "    .colab-df-convert {\n",
              "      background-color: #E8F0FE;\n",
              "      border: none;\n",
              "      border-radius: 50%;\n",
              "      cursor: pointer;\n",
              "      display: none;\n",
              "      fill: #1967D2;\n",
              "      height: 32px;\n",
              "      padding: 0 0 0 0;\n",
              "      width: 32px;\n",
              "    }\n",
              "\n",
              "    .colab-df-convert:hover {\n",
              "      background-color: #E2EBFA;\n",
              "      box-shadow: 0px 1px 2px rgba(60, 64, 67, 0.3), 0px 1px 3px 1px rgba(60, 64, 67, 0.15);\n",
              "      fill: #174EA6;\n",
              "    }\n",
              "\n",
              "    [theme=dark] .colab-df-convert {\n",
              "      background-color: #3B4455;\n",
              "      fill: #D2E3FC;\n",
              "    }\n",
              "\n",
              "    [theme=dark] .colab-df-convert:hover {\n",
              "      background-color: #434B5C;\n",
              "      box-shadow: 0px 1px 3px 1px rgba(0, 0, 0, 0.15);\n",
              "      filter: drop-shadow(0px 1px 2px rgba(0, 0, 0, 0.3));\n",
              "      fill: #FFFFFF;\n",
              "    }\n",
              "  </style>\n",
              "\n",
              "      <script>\n",
              "        const buttonEl =\n",
              "          document.querySelector('#df-2c6cc331-b205-435a-8b49-1d4ab0bb4bed button.colab-df-convert');\n",
              "        buttonEl.style.display =\n",
              "          google.colab.kernel.accessAllowed ? 'block' : 'none';\n",
              "\n",
              "        async function convertToInteractive(key) {\n",
              "          const element = document.querySelector('#df-2c6cc331-b205-435a-8b49-1d4ab0bb4bed');\n",
              "          const dataTable =\n",
              "            await google.colab.kernel.invokeFunction('convertToInteractive',\n",
              "                                                     [key], {});\n",
              "          if (!dataTable) return;\n",
              "\n",
              "          const docLinkHtml = 'Like what you see? Visit the ' +\n",
              "            '<a target=\"_blank\" href=https://colab.research.google.com/notebooks/data_table.ipynb>data table notebook</a>'\n",
              "            + ' to learn more about interactive tables.';\n",
              "          element.innerHTML = '';\n",
              "          dataTable['output_type'] = 'display_data';\n",
              "          await google.colab.output.renderOutput(dataTable, element);\n",
              "          const docLink = document.createElement('div');\n",
              "          docLink.innerHTML = docLinkHtml;\n",
              "          element.appendChild(docLink);\n",
              "        }\n",
              "      </script>\n",
              "    </div>\n",
              "  </div>\n",
              "  "
            ]
          },
          "metadata": {},
          "execution_count": 56
        }
      ]
    },
    {
      "cell_type": "markdown",
      "source": [
        "Now we can create a single column containing all the useful text that we will process and feed to our binary classifier."
      ],
      "metadata": {
        "id": "PxbaOlNEsGtU"
      }
    },
    {
      "cell_type": "code",
      "source": [
        "news_df[\"whole_text\"] = news_df[\"title\"] + news_df[\"text\"]\n",
        "news_df"
      ],
      "metadata": {
        "colab": {
          "base_uri": "https://localhost:8080/",
          "height": 519
        },
        "id": "pECQlQtF3gwh",
        "outputId": "585419fb-3604-4b26-8977-ffaf234eea7f"
      },
      "execution_count": null,
      "outputs": [
        {
          "output_type": "execute_result",
          "data": {
            "text/plain": [
              "0                                                  title  \\\n",
              "15137  Colin Powell Jokes About Why He’s Still A Repu...   \n",
              "18340  DONALD TRUMP JR. Releases Emails Related To Ru...   \n",
              "13891  WATCH: FORMER TRUMP GIRLFRIEND Sets The Record...   \n",
              "21972  Reflections on a World Gone Mad and Pushing Ba...   \n",
              "8976    Tennessee GOP Lawmaker Offers To Fund Bundy T...   \n",
              "...                                                  ...   \n",
              "21412  'Fully committed' NATO backs new U.S. approach...   \n",
              "21413  LexisNexis withdrew two products from Chinese ...   \n",
              "21414  Minsk cultural hub becomes haven from authorities   \n",
              "21415  Vatican upbeat on possibility of Pope Francis ...   \n",
              "21416  Indonesia to buy $1.14 billion worth of Russia...   \n",
              "\n",
              "0                                                   text    subject  label  \\\n",
              "15137  Colin Powell believes he s fooled us all into ...   politics      1   \n",
              "18340  Donald Trump Jr. took to Twitter today to rele...  left-news      1   \n",
              "13891  It s interesting how much vitriol some women h...   politics      1   \n",
              "21972   Andre Vltchek Anti DiplomaticoThe following i...    US_News      1   \n",
              "8976   Most Republican lawmakers have remained silent...       News      1   \n",
              "...                                                  ...        ...    ...   \n",
              "21412  BRUSSELS (Reuters) - NATO allies on Tuesday we...  worldnews      0   \n",
              "21413  LONDON (Reuters) - LexisNexis, a provider of l...  worldnews      0   \n",
              "21414  MINSK (Reuters) - In the shadow of disused Sov...  worldnews      0   \n",
              "21415  MOSCOW (Reuters) - Vatican Secretary of State ...  worldnews      0   \n",
              "21416  JAKARTA (Reuters) - Indonesia will buy 11 Sukh...  worldnews      0   \n",
              "\n",
              "0                                             whole_text  \n",
              "15137  Colin Powell Jokes About Why He’s Still A Repu...  \n",
              "18340  DONALD TRUMP JR. Releases Emails Related To Ru...  \n",
              "13891  WATCH: FORMER TRUMP GIRLFRIEND Sets The Record...  \n",
              "21972  Reflections on a World Gone Mad and Pushing Ba...  \n",
              "8976    Tennessee GOP Lawmaker Offers To Fund Bundy T...  \n",
              "...                                                  ...  \n",
              "21412  'Fully committed' NATO backs new U.S. approach...  \n",
              "21413  LexisNexis withdrew two products from Chinese ...  \n",
              "21414  Minsk cultural hub becomes haven from authorit...  \n",
              "21415  Vatican upbeat on possibility of Pope Francis ...  \n",
              "21416  Indonesia to buy $1.14 billion worth of Russia...  \n",
              "\n",
              "[35506 rows x 5 columns]"
            ],
            "text/html": [
              "\n",
              "  <div id=\"df-d6b915e3-8f5e-4fe7-9190-b1bdd77b7710\">\n",
              "    <div class=\"colab-df-container\">\n",
              "      <div>\n",
              "<style scoped>\n",
              "    .dataframe tbody tr th:only-of-type {\n",
              "        vertical-align: middle;\n",
              "    }\n",
              "\n",
              "    .dataframe tbody tr th {\n",
              "        vertical-align: top;\n",
              "    }\n",
              "\n",
              "    .dataframe thead th {\n",
              "        text-align: right;\n",
              "    }\n",
              "</style>\n",
              "<table border=\"1\" class=\"dataframe\">\n",
              "  <thead>\n",
              "    <tr style=\"text-align: right;\">\n",
              "      <th></th>\n",
              "      <th>title</th>\n",
              "      <th>text</th>\n",
              "      <th>subject</th>\n",
              "      <th>label</th>\n",
              "      <th>whole_text</th>\n",
              "    </tr>\n",
              "  </thead>\n",
              "  <tbody>\n",
              "    <tr>\n",
              "      <th>15137</th>\n",
              "      <td>Colin Powell Jokes About Why He’s Still A Repu...</td>\n",
              "      <td>Colin Powell believes he s fooled us all into ...</td>\n",
              "      <td>politics</td>\n",
              "      <td>1</td>\n",
              "      <td>Colin Powell Jokes About Why He’s Still A Repu...</td>\n",
              "    </tr>\n",
              "    <tr>\n",
              "      <th>18340</th>\n",
              "      <td>DONALD TRUMP JR. Releases Emails Related To Ru...</td>\n",
              "      <td>Donald Trump Jr. took to Twitter today to rele...</td>\n",
              "      <td>left-news</td>\n",
              "      <td>1</td>\n",
              "      <td>DONALD TRUMP JR. Releases Emails Related To Ru...</td>\n",
              "    </tr>\n",
              "    <tr>\n",
              "      <th>13891</th>\n",
              "      <td>WATCH: FORMER TRUMP GIRLFRIEND Sets The Record...</td>\n",
              "      <td>It s interesting how much vitriol some women h...</td>\n",
              "      <td>politics</td>\n",
              "      <td>1</td>\n",
              "      <td>WATCH: FORMER TRUMP GIRLFRIEND Sets The Record...</td>\n",
              "    </tr>\n",
              "    <tr>\n",
              "      <th>21972</th>\n",
              "      <td>Reflections on a World Gone Mad and Pushing Ba...</td>\n",
              "      <td>Andre Vltchek Anti DiplomaticoThe following i...</td>\n",
              "      <td>US_News</td>\n",
              "      <td>1</td>\n",
              "      <td>Reflections on a World Gone Mad and Pushing Ba...</td>\n",
              "    </tr>\n",
              "    <tr>\n",
              "      <th>8976</th>\n",
              "      <td>Tennessee GOP Lawmaker Offers To Fund Bundy T...</td>\n",
              "      <td>Most Republican lawmakers have remained silent...</td>\n",
              "      <td>News</td>\n",
              "      <td>1</td>\n",
              "      <td>Tennessee GOP Lawmaker Offers To Fund Bundy T...</td>\n",
              "    </tr>\n",
              "    <tr>\n",
              "      <th>...</th>\n",
              "      <td>...</td>\n",
              "      <td>...</td>\n",
              "      <td>...</td>\n",
              "      <td>...</td>\n",
              "      <td>...</td>\n",
              "    </tr>\n",
              "    <tr>\n",
              "      <th>21412</th>\n",
              "      <td>'Fully committed' NATO backs new U.S. approach...</td>\n",
              "      <td>BRUSSELS (Reuters) - NATO allies on Tuesday we...</td>\n",
              "      <td>worldnews</td>\n",
              "      <td>0</td>\n",
              "      <td>'Fully committed' NATO backs new U.S. approach...</td>\n",
              "    </tr>\n",
              "    <tr>\n",
              "      <th>21413</th>\n",
              "      <td>LexisNexis withdrew two products from Chinese ...</td>\n",
              "      <td>LONDON (Reuters) - LexisNexis, a provider of l...</td>\n",
              "      <td>worldnews</td>\n",
              "      <td>0</td>\n",
              "      <td>LexisNexis withdrew two products from Chinese ...</td>\n",
              "    </tr>\n",
              "    <tr>\n",
              "      <th>21414</th>\n",
              "      <td>Minsk cultural hub becomes haven from authorities</td>\n",
              "      <td>MINSK (Reuters) - In the shadow of disused Sov...</td>\n",
              "      <td>worldnews</td>\n",
              "      <td>0</td>\n",
              "      <td>Minsk cultural hub becomes haven from authorit...</td>\n",
              "    </tr>\n",
              "    <tr>\n",
              "      <th>21415</th>\n",
              "      <td>Vatican upbeat on possibility of Pope Francis ...</td>\n",
              "      <td>MOSCOW (Reuters) - Vatican Secretary of State ...</td>\n",
              "      <td>worldnews</td>\n",
              "      <td>0</td>\n",
              "      <td>Vatican upbeat on possibility of Pope Francis ...</td>\n",
              "    </tr>\n",
              "    <tr>\n",
              "      <th>21416</th>\n",
              "      <td>Indonesia to buy $1.14 billion worth of Russia...</td>\n",
              "      <td>JAKARTA (Reuters) - Indonesia will buy 11 Sukh...</td>\n",
              "      <td>worldnews</td>\n",
              "      <td>0</td>\n",
              "      <td>Indonesia to buy $1.14 billion worth of Russia...</td>\n",
              "    </tr>\n",
              "  </tbody>\n",
              "</table>\n",
              "<p>35506 rows × 5 columns</p>\n",
              "</div>\n",
              "      <button class=\"colab-df-convert\" onclick=\"convertToInteractive('df-d6b915e3-8f5e-4fe7-9190-b1bdd77b7710')\"\n",
              "              title=\"Convert this dataframe to an interactive table.\"\n",
              "              style=\"display:none;\">\n",
              "        \n",
              "  <svg xmlns=\"http://www.w3.org/2000/svg\" height=\"24px\"viewBox=\"0 0 24 24\"\n",
              "       width=\"24px\">\n",
              "    <path d=\"M0 0h24v24H0V0z\" fill=\"none\"/>\n",
              "    <path d=\"M18.56 5.44l.94 2.06.94-2.06 2.06-.94-2.06-.94-.94-2.06-.94 2.06-2.06.94zm-11 1L8.5 8.5l.94-2.06 2.06-.94-2.06-.94L8.5 2.5l-.94 2.06-2.06.94zm10 10l.94 2.06.94-2.06 2.06-.94-2.06-.94-.94-2.06-.94 2.06-2.06.94z\"/><path d=\"M17.41 7.96l-1.37-1.37c-.4-.4-.92-.59-1.43-.59-.52 0-1.04.2-1.43.59L10.3 9.45l-7.72 7.72c-.78.78-.78 2.05 0 2.83L4 21.41c.39.39.9.59 1.41.59.51 0 1.02-.2 1.41-.59l7.78-7.78 2.81-2.81c.8-.78.8-2.07 0-2.86zM5.41 20L4 18.59l7.72-7.72 1.47 1.35L5.41 20z\"/>\n",
              "  </svg>\n",
              "      </button>\n",
              "      \n",
              "  <style>\n",
              "    .colab-df-container {\n",
              "      display:flex;\n",
              "      flex-wrap:wrap;\n",
              "      gap: 12px;\n",
              "    }\n",
              "\n",
              "    .colab-df-convert {\n",
              "      background-color: #E8F0FE;\n",
              "      border: none;\n",
              "      border-radius: 50%;\n",
              "      cursor: pointer;\n",
              "      display: none;\n",
              "      fill: #1967D2;\n",
              "      height: 32px;\n",
              "      padding: 0 0 0 0;\n",
              "      width: 32px;\n",
              "    }\n",
              "\n",
              "    .colab-df-convert:hover {\n",
              "      background-color: #E2EBFA;\n",
              "      box-shadow: 0px 1px 2px rgba(60, 64, 67, 0.3), 0px 1px 3px 1px rgba(60, 64, 67, 0.15);\n",
              "      fill: #174EA6;\n",
              "    }\n",
              "\n",
              "    [theme=dark] .colab-df-convert {\n",
              "      background-color: #3B4455;\n",
              "      fill: #D2E3FC;\n",
              "    }\n",
              "\n",
              "    [theme=dark] .colab-df-convert:hover {\n",
              "      background-color: #434B5C;\n",
              "      box-shadow: 0px 1px 3px 1px rgba(0, 0, 0, 0.15);\n",
              "      filter: drop-shadow(0px 1px 2px rgba(0, 0, 0, 0.3));\n",
              "      fill: #FFFFFF;\n",
              "    }\n",
              "  </style>\n",
              "\n",
              "      <script>\n",
              "        const buttonEl =\n",
              "          document.querySelector('#df-d6b915e3-8f5e-4fe7-9190-b1bdd77b7710 button.colab-df-convert');\n",
              "        buttonEl.style.display =\n",
              "          google.colab.kernel.accessAllowed ? 'block' : 'none';\n",
              "\n",
              "        async function convertToInteractive(key) {\n",
              "          const element = document.querySelector('#df-d6b915e3-8f5e-4fe7-9190-b1bdd77b7710');\n",
              "          const dataTable =\n",
              "            await google.colab.kernel.invokeFunction('convertToInteractive',\n",
              "                                                     [key], {});\n",
              "          if (!dataTable) return;\n",
              "\n",
              "          const docLinkHtml = 'Like what you see? Visit the ' +\n",
              "            '<a target=\"_blank\" href=https://colab.research.google.com/notebooks/data_table.ipynb>data table notebook</a>'\n",
              "            + ' to learn more about interactive tables.';\n",
              "          element.innerHTML = '';\n",
              "          dataTable['output_type'] = 'display_data';\n",
              "          await google.colab.output.renderOutput(dataTable, element);\n",
              "          const docLink = document.createElement('div');\n",
              "          docLink.innerHTML = docLinkHtml;\n",
              "          element.appendChild(docLink);\n",
              "        }\n",
              "      </script>\n",
              "    </div>\n",
              "  </div>\n",
              "  "
            ]
          },
          "metadata": {},
          "execution_count": 57
        }
      ]
    },
    {
      "cell_type": "markdown",
      "source": [
        "Let's also take a quick look at the fake and true data distribution, as to keep an eye on the statistics."
      ],
      "metadata": {
        "id": "BtHX6DY5sUZ2"
      }
    },
    {
      "cell_type": "code",
      "source": [
        "neg, pos = np.bincount(news_df['label'])\n",
        "total = neg + pos\n",
        "print('Examples:\\n    Total: {}\\n    Fake mews: {} ({:.2f}% of total)\\n'.format(total, pos, 100 * pos / total))"
      ],
      "metadata": {
        "id": "6lUjb82m73og",
        "colab": {
          "base_uri": "https://localhost:8080/"
        },
        "outputId": "ff13d3b1-27f2-4098-8304-52972cf87b77"
      },
      "execution_count": null,
      "outputs": [
        {
          "output_type": "stream",
          "name": "stdout",
          "text": [
            "Examples:\n",
            "    Total: 35506\n",
            "    Fake mews: 14089 (39.68% of total)\n",
            "\n"
          ]
        }
      ]
    },
    {
      "cell_type": "code",
      "source": [
        "sns.countplot(x=\"label\", data=news_df);\n",
        "print(\"1: Unreliable\")\n",
        "print(\"0: Reliable\")\n",
        "print(\"Distribution of labels:\")\n",
        "print(news_df.label.value_counts());"
      ],
      "metadata": {
        "colab": {
          "base_uri": "https://localhost:8080/",
          "height": 553
        },
        "id": "9-kqq2vEiIYB",
        "outputId": "2439b69c-544d-48f0-f86f-8c4edb71f5cb"
      },
      "execution_count": null,
      "outputs": [
        {
          "output_type": "stream",
          "name": "stdout",
          "text": [
            "1: Unreliable\n",
            "0: Reliable\n",
            "Distribution of labels:\n",
            "0    21417\n",
            "1    14089\n",
            "Name: label, dtype: int64\n"
          ]
        },
        {
          "output_type": "display_data",
          "data": {
            "text/plain": [
              "<Figure size 640x480 with 1 Axes>"
            ],
            "image/png": "[encoded data removed]"
          },
          "metadata": {}
        }
      ]
    },
    {
      "cell_type": "markdown",
      "source": [
        "###Data preprocessing\n",
        "During this phase, the text at our disposal will be processed through the following methods:\n",
        "- some data cleaning in order to get rid of errors and detrimental elememts, and to lower all capital letters which are not needed for this task\n",
        "- stop words from the `nltk` library will be dropped\n",
        "- tokenization and lemmatization also through `nltk` methods"
      ],
      "metadata": {
        "id": "zfRAbgCPCzrf"
      }
    },
    {
      "cell_type": "code",
      "source": [
        "import re\n",
        "\n",
        "#nltk lib\n",
        "import nltk\n",
        "from nltk import word_tokenize\n",
        "from nltk.stem.wordnet import WordNetLemmatizer\n",
        "from nltk.corpus import stopwords\n",
        "from nltk.corpus import wordnet\n",
        "\n",
        "nltk.download('punkt')\n",
        "nltk.download('wordnet')\n",
        "nltk.download('stopwords')\n",
        "nltk.download('omw-1.4')"
      ],
      "metadata": {
        "colab": {
          "base_uri": "https://localhost:8080/"
        },
        "id": "OLC9UcGpA21l",
        "outputId": "aa4d4f60-f8c3-429c-c106-6385099cab03"
      },
      "execution_count": null,
      "outputs": [
        {
          "output_type": "stream",
          "name": "stderr",
          "text": [
            "[nltk_data] Downloading package punkt to /root/nltk_data...\n",
            "[nltk_data]   Package punkt is already up-to-date!\n",
            "[nltk_data] Downloading package wordnet to /root/nltk_data...\n",
            "[nltk_data]   Package wordnet is already up-to-date!\n",
            "[nltk_data] Downloading package stopwords to /root/nltk_data...\n",
            "[nltk_data]   Package stopwords is already up-to-date!\n",
            "[nltk_data] Downloading package omw-1.4 to /root/nltk_data...\n",
            "[nltk_data]   Package omw-1.4 is already up-to-date!\n"
          ]
        },
        {
          "output_type": "execute_result",
          "data": {
            "text/plain": [
              "True"
            ]
          },
          "metadata": {},
          "execution_count": 60
        }
      ]
    },
    {
      "cell_type": "code",
      "source": [
        "stop_words = stopwords.words('english')\n",
        "\n",
        "def clean_text(text):\n",
        " #output = ''\n",
        " text = str(text).replace(r'http[\\w:/\\.]+','') # removing urls\n",
        " text = str(text).replace(r'[^\\.\\w\\s]','') #remove everything but characters and punctuation\n",
        " text = str(text).replace(r'\\.\\.+','.') #replace multiple periods with a single one\n",
        " text = str(text).replace(r'\\.','.') #replace periods with a single one\n",
        " text = str(text).replace(r'\\s\\s+',' ') #replace multiple white space with a single one\n",
        " text = str(text).replace('\\n', '') #removing line breaks\n",
        " text = re.sub(r'[^\\w\\s]',' ',text).lower() #lower texts\n",
        "\n",
        " return text"
      ],
      "metadata": {
        "id": "xqHsI7XP_Hp3"
      },
      "execution_count": null,
      "outputs": []
    },
    {
      "cell_type": "code",
      "source": [
        "#text cleaning\n",
        "news_df['whole_text'] = news_df['whole_text'].apply(lambda row: clean_text(row))\n",
        "news_df['whole_text']"
      ],
      "metadata": {
        "id": "aXgVLTSRT6M_",
        "colab": {
          "base_uri": "https://localhost:8080/"
        },
        "outputId": "eb7fc514-b07a-4035-ed80-de80ec569ccb"
      },
      "execution_count": null,
      "outputs": [
        {
          "output_type": "execute_result",
          "data": {
            "text/plain": [
              "15137    colin powell jokes about why he s still a repu...\n",
              "18340    donald trump jr  releases emails related to ru...\n",
              "13891    watch  former trump girlfriend sets the record...\n",
              "21972    reflections on a world gone mad and pushing ba...\n",
              "8976      tennessee gop lawmaker offers to fund bundy t...\n",
              "                               ...                        \n",
              "21412     fully committed  nato backs new u s  approach...\n",
              "21413    lexisnexis withdrew two products from chinese ...\n",
              "21414    minsk cultural hub becomes haven from authorit...\n",
              "21415    vatican upbeat on possibility of pope francis ...\n",
              "21416    indonesia to buy  1 14 billion worth of russia...\n",
              "Name: whole_text, Length: 35506, dtype: object"
            ]
          },
          "metadata": {},
          "execution_count": 62
        }
      ]
    },
    {
      "cell_type": "code",
      "source": [
        "#deleting stop words\n",
        "news_df['whole_text'] = news_df['whole_text'].apply(lambda row: ' '.join([word for word in row.split() if word not in stop_words]))\n",
        "news_df['whole_text']"
      ],
      "metadata": {
        "id": "SiclMwq6fSX2",
        "colab": {
          "base_uri": "https://localhost:8080/"
        },
        "outputId": "374b6c30-234c-4190-a75c-e138f6311798"
      },
      "execution_count": null,
      "outputs": [
        {
          "output_type": "execute_result",
          "data": {
            "text/plain": [
              "15137    colin powell jokes still republican funny coli...\n",
              "18340    donald trump jr releases emails related russia...\n",
              "13891    watch former trump girlfriend sets record stra...\n",
              "21972    reflections world gone mad pushing back neocol...\n",
              "8976     tennessee gop lawmaker offers fund bundy terro...\n",
              "                               ...                        \n",
              "21412    fully committed nato backs new u approach afgh...\n",
              "21413    lexisnexis withdrew two products chinese marke...\n",
              "21414    minsk cultural hub becomes authoritiesminsk re...\n",
              "21415    vatican upbeat possibility pope francis visiti...\n",
              "21416    indonesia buy 1 14 billion worth russian jetsj...\n",
              "Name: whole_text, Length: 35506, dtype: object"
            ]
          },
          "metadata": {},
          "execution_count": 63
        }
      ]
    },
    {
      "cell_type": "code",
      "source": [
        "#lemmatization\n",
        "lemmatizer = WordNetLemmatizer()\n",
        "news_df['whole_text'] = news_df['whole_text'].apply(lambda row: ' '.join([lemmatizer.lemmatize(word) for word in row.split()]))\n",
        "news_df['whole_text']"
      ],
      "metadata": {
        "id": "OBcNOWEJfQGa",
        "colab": {
          "base_uri": "https://localhost:8080/"
        },
        "outputId": "093ce01c-5455-4c33-f93e-cf567d749974"
      },
      "execution_count": null,
      "outputs": [
        {
          "output_type": "execute_result",
          "data": {
            "text/plain": [
              "15137    colin powell joke still republican funny colin...\n",
              "18340    donald trump jr release email related russian ...\n",
              "13891    watch former trump girlfriend set record strai...\n",
              "21972    reflection world gone mad pushing back neocolo...\n",
              "8976     tennessee gop lawmaker offer fund bundy terror...\n",
              "                               ...                        \n",
              "21412    fully committed nato back new u approach afgha...\n",
              "21413    lexisnexis withdrew two product chinese market...\n",
              "21414    minsk cultural hub becomes authoritiesminsk re...\n",
              "21415    vatican upbeat possibility pope francis visiti...\n",
              "21416    indonesia buy 1 14 billion worth russian jetsj...\n",
              "Name: whole_text, Length: 35506, dtype: object"
            ]
          },
          "metadata": {},
          "execution_count": 64
        }
      ]
    },
    {
      "cell_type": "code",
      "source": [
        "#tokenization\n",
        "news_df['whole_text'] = news_df['whole_text'].apply(lambda row: nltk.word_tokenize(row))\n",
        "news_df['whole_text']"
      ],
      "metadata": {
        "colab": {
          "base_uri": "https://localhost:8080/"
        },
        "id": "x7pFLFY8_Gq-",
        "outputId": "f24ca607-d524-4e93-afe0-9fef8216400e"
      },
      "execution_count": null,
      "outputs": [
        {
          "output_type": "execute_result",
          "data": {
            "text/plain": [
              "15137    [colin, powell, joke, still, republican, funny...\n",
              "18340    [donald, trump, jr, release, email, related, r...\n",
              "13891    [watch, former, trump, girlfriend, set, record...\n",
              "21972    [reflection, world, gone, mad, pushing, back, ...\n",
              "8976     [tennessee, gop, lawmaker, offer, fund, bundy,...\n",
              "                               ...                        \n",
              "21412    [fully, committed, nato, back, new, u, approac...\n",
              "21413    [lexisnexis, withdrew, two, product, chinese, ...\n",
              "21414    [minsk, cultural, hub, becomes, authoritiesmin...\n",
              "21415    [vatican, upbeat, possibility, pope, francis, ...\n",
              "21416    [indonesia, buy, 1, 14, billion, worth, russia...\n",
              "Name: whole_text, Length: 35506, dtype: object"
            ]
          },
          "metadata": {},
          "execution_count": 65
        }
      ]
    },
    {
      "cell_type": "code",
      "source": [
        "news_df.to_csv('/content/drive/MyDrive/ISPR/midterm 3 FAKE NEWS DET/news_df.csv')"
      ],
      "metadata": {
        "id": "K5CrvP6hyCvz"
      },
      "execution_count": null,
      "outputs": []
    },
    {
      "cell_type": "markdown",
      "source": [
        "### Pre-trained Word embedding using Glove\n",
        "At this point it is needed to convert text into numbers to feed them to the learning machines.\n",
        "\n",
        "We will use the pre-trained word embeddings of [GloVe](https://nlp.stanford.edu/projects/glove/).\n",
        "\n",
        "We will be converting the text into numbers where each word will be represented by an array of numbers of different length depending upon the glove embedding.\n",
        "\n",
        "The [*Using pre-trained GloVe word embeddings*](https://keras.io/examples/nlp/pretrained_word_embeddings/) example from Keras documentation is taken as one reference.\n"
      ],
      "metadata": {
        "id": "3zsEGU02_XsJ"
      }
    },
    {
      "cell_type": "code",
      "source": [
        "news_df = pd.read_csv('/content/drive/MyDrive/ISPR/midterm 3 FAKE NEWS DET/news_df.csv')"
      ],
      "metadata": {
        "id": "zBj4hJTY0ekR"
      },
      "execution_count": null,
      "outputs": []
    },
    {
      "cell_type": "code",
      "source": [
        "import tensorflow as tf\n",
        "from tensorflow import keras\n",
        "\n",
        "from keras.preprocessing.text import Tokenizer\n",
        "from keras.utils.np_utils import to_categorical\n",
        "\n",
        "from keras.layers import TextVectorization\n",
        "from keras.layers import Dense, Input, Flatten\n",
        "from keras.layers import Conv1D, MaxPooling1D, Embedding, Dropout, Bidirectional\n",
        "from keras.models import Model\n",
        "\n",
        "from keras import regularizers, initializers, optimizers, callbacks\n",
        "from keras.layers import *\n",
        "from keras.models import Sequential\n",
        "\n",
        "from keras.utils import pad_sequences"
      ],
      "metadata": {
        "id": "JLXpKErDNqX_"
      },
      "execution_count": null,
      "outputs": []
    },
    {
      "cell_type": "markdown",
      "source": [
        "First, we initialize the `Tokenizer` object which is imported from the Keras library as a token. Then we fit the tokenizer on the whole text where each word is assigned a unique number and every word is now represented by a number. After all that, we convert each sentence into a sequence of numbers and we make all the sentences of uniform length through padding them using the `pad_sequences` Keras method and a fixed `maxlen` value."
      ],
      "metadata": {
        "id": "gjFBDH9Du7FQ"
      }
    },
    {
      "cell_type": "code",
      "source": [
        "# Train test validation Split\n",
        "from sklearn.model_selection import train_test_split\n",
        "maxlen=200\n",
        "vocsize=20000\n",
        "\n",
        "x_train, x_test, y_train, y_test = train_test_split(news_df['whole_text'], news_df[\"label\"].values, test_size=0.3, random_state=42)\n",
        "\n",
        "#get validation data\n",
        "x_train, x_val, y_train, y_val = train_test_split(x_train, y_train, test_size=0.3, random_state=42)\n",
        "\n",
        "# create tokenizer object and fit it to dataset\n",
        "tokenizer = Tokenizer(num_words = vocsize,\n",
        "                      oov_token='OOV')\n",
        "\n",
        "tokenizer.fit_on_texts(x_train)\n",
        "tokenizer.fit_on_texts(x_val)\n",
        "tokenizer.fit_on_texts(x_test)\n",
        "\n",
        "# trasform text to sequence for data in train, validation and test sets\n",
        "x_train = tokenizer.texts_to_sequences(x_train)\n",
        "x_val   = tokenizer.texts_to_sequences(x_val)\n",
        "x_test  = tokenizer.texts_to_sequences(x_test)\n",
        "\n",
        "# pad sequence for data in train, validation and test sets\n",
        "x_train = pad_sequences(x_train, padding='post', maxlen=maxlen)\n",
        "x_val   = pad_sequences(x_val, padding='post', maxlen=maxlen)\n",
        "x_test  = pad_sequences(x_test, padding='post', maxlen=maxlen)"
      ],
      "metadata": {
        "id": "TqvXWqn9cbNo"
      },
      "execution_count": null,
      "outputs": []
    },
    {
      "cell_type": "code",
      "source": [
        "x_train.shape, y_train.shape, x_test.shape, y_test.shape"
      ],
      "metadata": {
        "colab": {
          "base_uri": "https://localhost:8080/"
        },
        "id": "YOmtLT7ebsev",
        "outputId": "9fd595b8-e7f3-41b4-f95a-cd38f0269ceb"
      },
      "execution_count": null,
      "outputs": [
        {
          "output_type": "execute_result",
          "data": {
            "text/plain": [
              "((17397, 200), (17397,), (10652, 200), (10652,))"
            ]
          },
          "metadata": {},
          "execution_count": 70
        }
      ]
    },
    {
      "cell_type": "code",
      "source": [
        "# vectorizer = TextVectorization(max_tokens=5000, output_sequence_length=2000)\n",
        "# text_ds = tf.data.Dataset.from_tensor_slices(news_df['whole_text']).batch(128)\n",
        "# vectorizer.adapt(text_ds)"
      ],
      "metadata": {
        "id": "59dCQ9VQNTTv"
      },
      "execution_count": null,
      "outputs": []
    },
    {
      "cell_type": "code",
      "source": [
        "!wget http://nlp.stanford.edu/data/glove.6B.zip\n",
        "!unzip glove*.zip"
      ],
      "metadata": {
        "id": "VN0lqAx1LK46",
        "colab": {
          "base_uri": "https://localhost:8080/"
        },
        "outputId": "1ca68fa6-0eeb-4589-c3fe-5556df207e37"
      },
      "execution_count": null,
      "outputs": [
        {
          "output_type": "stream",
          "name": "stdout",
          "text": [
            "--2023-05-13 15:46:37--  http://nlp.stanford.edu/data/glove.6B.zip\n",
            "Resolving nlp.stanford.edu (nlp.stanford.edu)... 171.64.67.140\n",
            "Connecting to nlp.stanford.edu (nlp.stanford.edu)|171.64.67.140|:80... connected.\n",
            "HTTP request sent, awaiting response... 302 Found\n",
            "Location: https://nlp.stanford.edu/data/glove.6B.zip [following]\n",
            "--2023-05-13 15:46:37--  https://nlp.stanford.edu/data/glove.6B.zip\n",
            "Connecting to nlp.stanford.edu (nlp.stanford.edu)|171.64.67.140|:443... connected.\n",
            "HTTP request sent, awaiting response... 301 Moved Permanently\n",
            "Location: https://downloads.cs.stanford.edu/nlp/data/glove.6B.zip [following]\n",
            "--2023-05-13 15:46:38--  https://downloads.cs.stanford.edu/nlp/data/glove.6B.zip\n",
            "Resolving downloads.cs.stanford.edu (downloads.cs.stanford.edu)... 171.64.64.22\n",
            "Connecting to downloads.cs.stanford.edu (downloads.cs.stanford.edu)|171.64.64.22|:443... connected.\n",
            "HTTP request sent, awaiting response... 200 OK\n",
            "Length: 862182613 (822M) [application/zip]\n",
            "Saving to: ‘glove.6B.zip.1’\n",
            "\n",
            "glove.6B.zip.1      100%[===================>] 822.24M  5.00MB/s    in 2m 39s  \n",
            "\n",
            "2023-05-13 15:49:17 (5.16 MB/s) - ‘glove.6B.zip.1’ saved [862182613/862182613]\n",
            "\n",
            "Archive:  glove.6B.zip\n",
            "replace glove.6B.50d.txt? [y]es, [n]o, [A]ll, [N]one, [r]ename: "
          ]
        }
      ]
    },
    {
      "cell_type": "code",
      "source": [
        "path_to_glove = os.path.join(\n",
        "    os.path.expanduser(\"~\"), \"/content/glove.6B.100d.txt\"\n",
        ")"
      ],
      "metadata": {
        "id": "0FMzFsNQNH1X"
      },
      "execution_count": null,
      "outputs": []
    },
    {
      "cell_type": "markdown",
      "source": [
        "Now, let's prepare a corresponding **embedding matrix** that we can use in a Keras **Embedding layer**. It's a simple NumPy matrix where entry at index `i` is the pre-trained vector for the word of index `i` in our vectorizer's vocabulary."
      ],
      "metadata": {
        "id": "0T_bvzpwtygF"
      }
    },
    {
      "cell_type": "code",
      "source": [
        "embedding_dim = 100\n",
        "embeddings_index = {}\n",
        "\n",
        "f = open('glove.6B.100d.txt', encoding='utf-8')\n",
        "for line in f:\n",
        "    values = line.split()\n",
        "    word = values[0]\n",
        "    coefs = np.asarray(values[1:], dtype='float32')\n",
        "    embeddings_index[word] = coefs\n",
        "f.close()\n",
        "\n",
        "print('Found %s word vectors.' % len(embeddings_index))"
      ],
      "metadata": {
        "colab": {
          "base_uri": "https://localhost:8080/"
        },
        "id": "HOTzpx9PTlLh",
        "outputId": "ac2a6eca-bcd8-4046-91ad-ac16ab4c9dd0"
      },
      "execution_count": null,
      "outputs": [
        {
          "output_type": "stream",
          "name": "stdout",
          "text": [
            "Found 400000 word vectors.\n"
          ]
        }
      ]
    },
    {
      "cell_type": "code",
      "source": [
        "# Prepare embedding matrix\n",
        "embedding_matrix = np.zeros((vocsize, embedding_dim))\n",
        "#for word, i in tokenizer.word_index.items():\n",
        "for i in range(1, vocsize):\n",
        "  word = tokenizer.index_word[i]\n",
        "  embedding_vector = embeddings_index.get(word)\n",
        "  if embedding_vector is not None:\n",
        "        # Words not found in embedding index will be all-zeros.\n",
        "        # This includes the representation for \"padding\" and \"OOV\"\n",
        "      embedding_matrix[i:] = embedding_vector\n",
        "\n",
        "embedding_matrix"
      ],
      "metadata": {
        "id": "B2QGUkJsYj25",
        "colab": {
          "base_uri": "https://localhost:8080/"
        },
        "outputId": "5ba7224f-c10e-4c78-d020-aae367c3ea6d"
      },
      "execution_count": null,
      "outputs": [
        {
          "output_type": "execute_result",
          "data": {
            "text/plain": [
              "array([[ 0.        ,  0.        ,  0.        , ...,  0.        ,\n",
              "         0.        ,  0.        ],\n",
              "       [ 0.        ,  0.        ,  0.        , ...,  0.        ,\n",
              "         0.        ,  0.        ],\n",
              "       [ 0.        ,  0.        ,  0.        , ...,  0.        ,\n",
              "         0.        ,  0.        ],\n",
              "       ...,\n",
              "       [-0.65170002,  0.80484003,  0.048731  , ..., -0.78518999,\n",
              "        -0.23776001,  0.37248001],\n",
              "       [-0.65170002,  0.80484003,  0.048731  , ..., -0.78518999,\n",
              "        -0.23776001,  0.37248001],\n",
              "       [-0.65170002,  0.80484003,  0.048731  , ..., -0.78518999,\n",
              "        -0.23776001,  0.37248001]])"
            ]
          },
          "metadata": {},
          "execution_count": 75
        }
      ]
    },
    {
      "cell_type": "code",
      "source": [
        "from keras.initializers import Constant\n",
        "\n",
        "embedding_layer = Embedding(vocsize,\n",
        "                            embedding_dim,\n",
        "                            mask_zero = True,\n",
        "                            #weights=[embedding_matrix],\n",
        "                            embeddings_initializer = Constant(embedding_matrix),\n",
        "                            trainable = True,\n",
        "                            input_length=maxlen)"
      ],
      "metadata": {
        "id": "sRW7NGB-YrfE"
      },
      "execution_count": null,
      "outputs": []
    },
    {
      "cell_type": "code",
      "source": [
        "from keras.callbacks import EarlyStopping\n",
        "earlystopping = EarlyStopping(monitor='val_loss', # monitor validation loss\n",
        "                              patience=1,\n",
        "                              restore_best_weights=True)"
      ],
      "metadata": {
        "id": "kXqjWKn3Z4BA"
      },
      "execution_count": null,
      "outputs": []
    },
    {
      "cell_type": "markdown",
      "source": [
        "### LSTM\n",
        "\n",
        "One good reason to use Long Short Term Memory model is that it is effective in memorizing important information.\n",
        "\n",
        "If we look and other non-neural network classification techniques, every single word is classified into one of the categories.\n",
        "\n",
        "This is not the same in LSTM. In LSTM we can use a multiple word string to find out the class to which it belongs. This is very helpful while working with Natural language processing. If we use appropriate layers of embedding and encoding in LSTM, the model will be able to find out the actual meaning in input string and will give the most accurate output class."
      ],
      "metadata": {
        "id": "a0uSpAHmYZZ3"
      }
    },
    {
      "cell_type": "code",
      "source": [
        "#LSTM model\n",
        "def build_lstm(n_units, lr):\n",
        "\n",
        "  model_LSTM = Sequential()\n",
        "  #model_LSTM.add(Input(shape=(None,), dtype='int32'))\n",
        "  model_LSTM.add(embedding_layer)\n",
        "  model_LSTM.add(LSTM(n_units, return_sequences=True, dropout=0.8, name='lstm_layer'))\n",
        "  model_LSTM.add(Flatten())\n",
        "  model_LSTM.add(Dense(1, activation='sigmoid'))\n",
        "\n",
        "  model_LSTM.compile(optimizer=tf.keras.optimizers.Adam(learning_rate=lr),\n",
        "                     loss='binary_crossentropy',\n",
        "                     metrics = ['accuracy'])\n",
        "\n",
        "  return model_LSTM"
      ],
      "metadata": {
        "id": "6dGKY5-0YbW4"
      },
      "execution_count": null,
      "outputs": []
    },
    {
      "cell_type": "markdown",
      "source": [
        "#### Plot functions"
      ],
      "metadata": {
        "id": "lj7yzfKyNtrq"
      }
    },
    {
      "cell_type": "code",
      "source": [
        "def plot_loss(history):\n",
        "  %matplotlib inline\n",
        "  loss = history.history['loss']\n",
        "  val_loss = history.history['val_loss']\n",
        "  epochs = range(1, len(loss)+1)\n",
        "  plt.plot(epochs, loss, label='Training loss')\n",
        "  plt.plot(epochs, val_loss, label='Validation loss')\n",
        "  plt.title('Training and validation loss')\n",
        "  plt.xlabel('Epochs')\n",
        "  plt.ylabel('Loss')\n",
        "  plt.legend()\n",
        "  plt.show();"
      ],
      "metadata": {
        "id": "Cdx83aX_ahmb"
      },
      "execution_count": null,
      "outputs": []
    },
    {
      "cell_type": "code",
      "source": [
        "def plot_acc(history, epochs):\n",
        "  accuracy = history.history['accuracy']\n",
        "  val_accuracy = history.history['val_accuracy']\n",
        "  plt.plot(epochs, accuracy, label='Training accuracy')\n",
        "  plt.plot(epochs, val_accuracy, label='Validation accuracy')\n",
        "  plt.title('Training and validation accuracy')\n",
        "  plt.ylabel('Accuracy')\n",
        "  plt.xlabel('Epochs')\n",
        "  plt.legend()\n",
        "  plt.show();"
      ],
      "metadata": {
        "id": "YuTaY2kZaorv"
      },
      "execution_count": null,
      "outputs": []
    },
    {
      "cell_type": "markdown",
      "source": [
        "## Training LSTM"
      ],
      "metadata": {
        "id": "QshMn2kYNy12"
      }
    },
    {
      "cell_type": "markdown",
      "source": [
        "Here a very small kind of grid search is implemented, iterating through the values of `number of units` for the LSTM layer and the `learning rate` for the optimizer, Adam in our case. Moreover, class weights proportional to the balance state of the data have been added through the ScikitLearn method `compute_class_weight()`.\n",
        "\n",
        "Through this model selection phase, we're hoping to find the most suitable combination of parameters and model structure for out task."
      ],
      "metadata": {
        "id": "JPogKEU8Q0ty"
      }
    },
    {
      "cell_type": "code",
      "source": [
        "params={\n",
        "    'n_units':[10, 30, 50],\n",
        "    'lr': [0.1, 0.01, 0.001]\n",
        "    }\n",
        "\n",
        "\n",
        "from sklearn.utils import class_weight, compute_class_weight\n",
        "class_weights = compute_class_weight(class_weight = \"balanced\",\n",
        "                                     classes = np.unique(y_train),\n",
        "                                     y = y_train)\n",
        "class_weights = dict(zip(np.unique(y_train), class_weights))\n",
        "class_weights\n",
        "\n",
        "histories = []\n",
        "min_loss = 0\n",
        "parameters = {}\n",
        "\n",
        "for i in range(len(params['n_units'])):\n",
        "  for j in range(len(params['lr'])):\n",
        "    model=build_lstm(params['n_units'][i], params['lr'][j])\n",
        "\n",
        "    history_LSTM = model.fit(x_train, y_train,\n",
        "                                epochs = 10,\n",
        "                                batch_size=16,\n",
        "                                validation_data=(x_val, y_val),\n",
        "                                shuffle=True,\n",
        "                                callbacks = [earlystopping],\n",
        "                                class_weight = class_weights)\n",
        "    # convert the history.history dict to a pandas DataFrame:\n",
        "    hist_df = pd.DataFrame(history_LSTM.history)\n",
        "    histories.append(hist_df)\n",
        "    if i==0 and j==0:\n",
        "      min_loss = hist_df['loss'].min()\n",
        "      print('First minimum loss:', min_loss)\n",
        "    else:\n",
        "      if hist_df['loss'].min() < min_loss:\n",
        "        min_loss = hist_df['loss'].min()\n",
        "        parameters[0] = i\n",
        "        parameters[1] = j\n",
        "        print('Minimum loss until now:', min_loss, 'parameters:', parameters)\n"
      ],
      "metadata": {
        "colab": {
          "base_uri": "https://localhost:8080/"
        },
        "id": "yUMahHJSuFUG",
        "outputId": "2df3fcca-53c5-4291-9e53-9e576192adbd"
      },
      "execution_count": null,
      "outputs": [
        {
          "output_type": "stream",
          "name": "stdout",
          "text": [
            "Epoch 1/10\n",
            "1088/1088 [==============================] - 204s 180ms/step - loss: 5.1971 - accuracy: 0.6190 - val_loss: 3.6796 - val_accuracy: 0.7137\n",
            "Epoch 2/10\n",
            "1088/1088 [==============================] - 192s 177ms/step - loss: 6.5297 - accuracy: 0.5849 - val_loss: 4.8057 - val_accuracy: 0.6245\n",
            "First minimum loss: 5.197124481201172\n",
            "Epoch 1/10\n",
            "1088/1088 [==============================] - 184s 165ms/step - loss: 0.7651 - accuracy: 0.6470 - val_loss: 0.4503 - val_accuracy: 0.8049\n",
            "Epoch 2/10\n",
            "1088/1088 [==============================] - 187s 172ms/step - loss: 0.6207 - accuracy: 0.7471 - val_loss: 0.3150 - val_accuracy: 0.8710\n",
            "Epoch 3/10\n",
            "1088/1088 [==============================] - 189s 174ms/step - loss: 0.5852 - accuracy: 0.7741 - val_loss: 0.2869 - val_accuracy: 0.8895\n",
            "Epoch 4/10\n",
            "1088/1088 [==============================] - 189s 174ms/step - loss: 0.5541 - accuracy: 0.7952 - val_loss: 0.3055 - val_accuracy: 0.8883\n",
            "Minimum loss until now: 0.5540860295295715 parameters: {0: 0, 1: 1}\n",
            "Epoch 1/10\n",
            "1088/1088 [==============================] - 196s 176ms/step - loss: 0.6409 - accuracy: 0.6227 - val_loss: 0.3481 - val_accuracy: 0.8495\n",
            "Epoch 2/10\n",
            "1088/1088 [==============================] - 177s 163ms/step - loss: 0.4191 - accuracy: 0.8113 - val_loss: 0.2281 - val_accuracy: 0.9120\n",
            "Epoch 3/10\n",
            "1088/1088 [==============================] - 178s 164ms/step - loss: 0.3471 - accuracy: 0.8472 - val_loss: 0.1999 - val_accuracy: 0.9281\n",
            "Epoch 4/10\n",
            "1088/1088 [==============================] - 177s 163ms/step - loss: 0.3228 - accuracy: 0.8635 - val_loss: 0.1935 - val_accuracy: 0.9317\n",
            "Epoch 5/10\n",
            "1088/1088 [==============================] - 180s 165ms/step - loss: 0.3033 - accuracy: 0.8743 - val_loss: 0.1801 - val_accuracy: 0.9329\n",
            "Epoch 6/10\n",
            "1088/1088 [==============================] - 185s 170ms/step - loss: 0.2832 - accuracy: 0.8825 - val_loss: 0.1781 - val_accuracy: 0.9379\n",
            "Epoch 7/10\n",
            "1088/1088 [==============================] - 188s 173ms/step - loss: 0.2775 - accuracy: 0.8856 - val_loss: 0.1670 - val_accuracy: 0.9403\n",
            "Epoch 8/10\n",
            "1088/1088 [==============================] - 190s 175ms/step - loss: 0.2647 - accuracy: 0.8917 - val_loss: 0.1571 - val_accuracy: 0.9445\n",
            "Epoch 9/10\n",
            "1088/1088 [==============================] - 178s 163ms/step - loss: 0.2649 - accuracy: 0.8924 - val_loss: 0.1541 - val_accuracy: 0.9439\n",
            "Epoch 10/10\n",
            "1088/1088 [==============================] - 185s 170ms/step - loss: 0.2588 - accuracy: 0.8943 - val_loss: 0.1433 - val_accuracy: 0.9486\n",
            "Minimum loss until now: 0.25884440541267395 parameters: {0: 0, 1: 2}\n",
            "Epoch 1/10\n",
            "1088/1088 [==============================] - 236s 211ms/step - loss: 13.2157 - accuracy: 0.6341 - val_loss: 11.0672 - val_accuracy: 0.7495\n",
            "Epoch 2/10\n",
            "1088/1088 [==============================] - 223s 205ms/step - loss: 16.7660 - accuracy: 0.6569 - val_loss: 10.0051 - val_accuracy: 0.7897\n",
            "Epoch 3/10\n",
            "1088/1088 [==============================] - 228s 210ms/step - loss: 16.9219 - accuracy: 0.6806 - val_loss: 10.4971 - val_accuracy: 0.7955\n",
            "Epoch 1/10\n",
            "1088/1088 [==============================] - 217s 195ms/step - loss: 1.1773 - accuracy: 0.6983 - val_loss: 0.6562 - val_accuracy: 0.8695\n",
            "Epoch 2/10\n",
            "1088/1088 [==============================] - 203s 187ms/step - loss: 1.2862 - accuracy: 0.7595 - val_loss: 0.6636 - val_accuracy: 0.8856\n",
            "Epoch 1/10\n",
            "1088/1088 [==============================] - 221s 198ms/step - loss: 0.5393 - accuracy: 0.7166 - val_loss: 0.2214 - val_accuracy: 0.9111\n",
            "Epoch 2/10\n",
            "1088/1088 [==============================] - 213s 196ms/step - loss: 0.3610 - accuracy: 0.8449 - val_loss: 0.1711 - val_accuracy: 0.9356\n",
            "Epoch 3/10\n",
            "1088/1088 [==============================] - 205s 188ms/step - loss: 0.3193 - accuracy: 0.8672 - val_loss: 0.1594 - val_accuracy: 0.9439\n",
            "Epoch 4/10\n",
            "1088/1088 [==============================] - 215s 197ms/step - loss: 0.3086 - accuracy: 0.8735 - val_loss: 0.1541 - val_accuracy: 0.9413\n",
            "Epoch 5/10\n",
            "1088/1088 [==============================] - 215s 198ms/step - loss: 0.3006 - accuracy: 0.8763 - val_loss: 0.1564 - val_accuracy: 0.9458\n",
            "Epoch 1/10\n",
            "1088/1088 [==============================] - 283s 253ms/step - loss: 20.1777 - accuracy: 0.6193 - val_loss: 13.4803 - val_accuracy: 0.7892\n",
            "Epoch 2/10\n",
            "1088/1088 [==============================] - 273s 251ms/step - loss: 25.3138 - accuracy: 0.6593 - val_loss: 12.9845 - val_accuracy: 0.8259\n",
            "Epoch 3/10\n",
            "1088/1088 [==============================] - 272s 250ms/step - loss: 25.8704 - accuracy: 0.6908 - val_loss: 16.6743 - val_accuracy: 0.8116\n",
            "Epoch 1/10\n",
            "1088/1088 [==============================] - 244s 220ms/step - loss: 1.6262 - accuracy: 0.7086 - val_loss: 0.9056 - val_accuracy: 0.8698\n",
            "Epoch 2/10\n",
            "1088/1088 [==============================] - 231s 212ms/step - loss: 1.9045 - accuracy: 0.7665 - val_loss: 0.9708 - val_accuracy: 0.8896\n",
            "Epoch 1/10\n",
            "1088/1088 [==============================] - 231s 207ms/step - loss: 0.5242 - accuracy: 0.7348 - val_loss: 0.2084 - val_accuracy: 0.9250\n",
            "Epoch 2/10\n",
            "1088/1088 [==============================] - 231s 212ms/step - loss: 0.3623 - accuracy: 0.8473 - val_loss: 0.1898 - val_accuracy: 0.9346\n",
            "Epoch 3/10\n",
            "1088/1088 [==============================] - 240s 221ms/step - loss: 0.3311 - accuracy: 0.8669 - val_loss: 0.1791 - val_accuracy: 0.9378\n",
            "Epoch 4/10\n",
            "1088/1088 [==============================] - 231s 213ms/step - loss: 0.3224 - accuracy: 0.8730 - val_loss: 0.1716 - val_accuracy: 0.9441\n",
            "Epoch 5/10\n",
            "1088/1088 [==============================] - 229s 210ms/step - loss: 0.3274 - accuracy: 0.8745 - val_loss: 0.1696 - val_accuracy: 0.9505\n",
            "Epoch 6/10\n",
            "1088/1088 [==============================] - 226s 208ms/step - loss: 0.3101 - accuracy: 0.8804 - val_loss: 0.1719 - val_accuracy: 0.9486\n"
          ]
        }
      ]
    },
    {
      "cell_type": "markdown",
      "source": [
        "Having found the combination of parameters that leads to the lowest loss, we do a final training run to observe the results and plot loss and accuracy, and then use the chosen parameters for the evaluation and verification phase of the model's prediction capability."
      ],
      "metadata": {
        "id": "dMX0_-1xOJ6Y"
      }
    },
    {
      "cell_type": "code",
      "source": [
        "i = parameters[0]\n",
        "j = parameters[1]\n",
        "model=build_lstm(params['n_units'][i], params['lr'][j])\n",
        "\n",
        "history_LSTM = model.fit(x_train, y_train,\n",
        "                            epochs = 10,\n",
        "                            batch_size=128,\n",
        "                            validation_data=(x_val, y_val),\n",
        "                            shuffle=True,\n",
        "                            callbacks = [earlystopping])\n",
        "epoch = history_LSTM.epoch\n",
        "plot_loss(history_LSTM)\n",
        "plot_acc(history_LSTM, epoch)"
      ],
      "metadata": {
        "id": "i9qYMrQJ4BbS",
        "colab": {
          "base_uri": "https://localhost:8080/",
          "height": 1000
        },
        "outputId": "077c80a8-9b7d-4e6e-a054-2dad90e498ac"
      },
      "execution_count": null,
      "outputs": [
        {
          "output_type": "stream",
          "name": "stdout",
          "text": [
            "Epoch 1/10\n",
            "136/136 [==============================] - 52s 328ms/step - loss: 0.6891 - accuracy: 0.5714 - val_loss: 0.5593 - val_accuracy: 0.7136\n",
            "Epoch 2/10\n",
            "136/136 [==============================] - 41s 299ms/step - loss: 0.6104 - accuracy: 0.6668 - val_loss: 0.4132 - val_accuracy: 0.8286\n",
            "Epoch 3/10\n",
            "136/136 [==============================] - 41s 305ms/step - loss: 0.5205 - accuracy: 0.7472 - val_loss: 0.3121 - val_accuracy: 0.8746\n",
            "Epoch 4/10\n",
            "136/136 [==============================] - 40s 291ms/step - loss: 0.4436 - accuracy: 0.7997 - val_loss: 0.2521 - val_accuracy: 0.9044\n",
            "Epoch 5/10\n",
            "136/136 [==============================] - 43s 314ms/step - loss: 0.3921 - accuracy: 0.8291 - val_loss: 0.2292 - val_accuracy: 0.9110\n",
            "Epoch 6/10\n",
            "136/136 [==============================] - 40s 296ms/step - loss: 0.3552 - accuracy: 0.8480 - val_loss: 0.2215 - val_accuracy: 0.9158\n",
            "Epoch 7/10\n",
            "136/136 [==============================] - 41s 299ms/step - loss: 0.3472 - accuracy: 0.8536 - val_loss: 0.2067 - val_accuracy: 0.9216\n",
            "Epoch 8/10\n",
            "136/136 [==============================] - 41s 298ms/step - loss: 0.3302 - accuracy: 0.8614 - val_loss: 0.1988 - val_accuracy: 0.9245\n",
            "Epoch 9/10\n",
            "136/136 [==============================] - 41s 300ms/step - loss: 0.3143 - accuracy: 0.8684 - val_loss: 0.1965 - val_accuracy: 0.9281\n",
            "Epoch 10/10\n",
            "136/136 [==============================] - 42s 306ms/step - loss: 0.3177 - accuracy: 0.8667 - val_loss: 0.1918 - val_accuracy: 0.9270\n"
          ]
        },
        {
          "output_type": "display_data",
          "data": {
            "text/plain": [
              "<Figure size 640x480 with 1 Axes>"
            ],
            "image/png": "[encoded data removed]"
          },
          "metadata": {}
        },
        {
          "output_type": "display_data",
          "data": {
            "text/plain": [
              "<Figure size 640x480 with 1 Axes>"
            ],
            "image/png": "[encoded data removed]"
          },
          "metadata": {}
        }
      ]
    },
    {
      "cell_type": "markdown",
      "source": [
        "## Testing: model evaluation and prediction skills"
      ],
      "metadata": {
        "id": "C8qtxrOEN6B9"
      }
    },
    {
      "cell_type": "code",
      "source": [
        "print(\"Evaluate model on test data\")\n",
        "model=build_lstm(params['n_units'][i], params['lr'][j])\n",
        "results = model.evaluate(x_test, y_test)\n",
        "print(\"test loss, test acc:\", results)"
      ],
      "metadata": {
        "colab": {
          "base_uri": "https://localhost:8080/"
        },
        "id": "SVsbtkJceA3L",
        "outputId": "28d34d5e-bb60-412b-ee23-cfe7015223d9"
      },
      "execution_count": null,
      "outputs": [
        {
          "output_type": "stream",
          "name": "stdout",
          "text": [
            "Evaluate model on test data\n",
            "333/333 [==============================] - 22s 56ms/step - loss: 0.7049 - accuracy: 0.5356\n",
            "test loss, test acc: [0.7048978209495544, 0.5355801582336426]\n"
          ]
        }
      ]
    },
    {
      "cell_type": "code",
      "source": [
        "# Generate a prediction using model.predict()\n",
        "# and calculate it's shape:\n",
        "print(\"Generate a prediction\")\n",
        "prediction = model.predict(x_test)\n",
        "print(\"prediction shape:\", prediction.shape)"
      ],
      "metadata": {
        "id": "ib8jMbEo1Nu9",
        "colab": {
          "base_uri": "https://localhost:8080/"
        },
        "outputId": "fdee2887-e381-456f-a9aa-6ded04288d9d"
      },
      "execution_count": null,
      "outputs": [
        {
          "output_type": "stream",
          "name": "stdout",
          "text": [
            "Generate a prediction\n",
            "333/333 [==============================] - 10s 31ms/step\n",
            "prediction shape: (10652, 1)\n"
          ]
        }
      ]
    },
    {
      "cell_type": "code",
      "source": [
        "y_pred = []\n",
        "\n",
        "for i in prediction:\n",
        "  if i >= 0.5:\n",
        "    y_pred.append(1)\n",
        "  else:\n",
        "    y_pred.append(0)"
      ],
      "metadata": {
        "id": "g0Gy-WTFeG2i"
      },
      "execution_count": null,
      "outputs": []
    },
    {
      "cell_type": "code",
      "source": [
        "from sklearn.metrics import accuracy_score, precision_score, recall_score, confusion_matrix\n",
        "\n",
        "print('Accuracy on test set:', accuracy_score(y_pred, y_test))\n",
        "print('Precision on test set:', precision_score(y_pred, y_test))\n",
        "print('Recall on test set:', recall_score(y_pred, y_test))"
      ],
      "metadata": {
        "colab": {
          "base_uri": "https://localhost:8080/"
        },
        "id": "aikwHY7KeL5k",
        "outputId": "23248643-83f9-448d-89c9-ae164e691d6b"
      },
      "execution_count": null,
      "outputs": [
        {
          "output_type": "stream",
          "name": "stdout",
          "text": [
            "Accuracy on test set: 0.9228313931656027\n",
            "Precision on test set: 0.8541519642437073\n",
            "Recall on test set: 0.9472997651969737\n"
          ]
        }
      ]
    },
    {
      "cell_type": "code",
      "source": [
        "confusion_matrix(y_test, y_pred)"
      ],
      "metadata": {
        "colab": {
          "base_uri": "https://localhost:8080/"
        },
        "id": "yG3c-JCAnZyi",
        "outputId": "b0dbaf23-24a0-42c3-df46-f21fd9048861"
      },
      "execution_count": null,
      "outputs": [
        {
          "output_type": "execute_result",
          "data": {
            "text/plain": [
              "array([[6199,  202],\n",
              "       [ 620, 3631]])"
            ]
          },
          "metadata": {},
          "execution_count": 88
        }
      ]
    },
    {
      "cell_type": "markdown",
      "source": [
        "### Bidirectional LSTM\n",
        "Bidirectional LSTM (BiLSTM) is a recurrent neural network used primarily on natural language processing. Unlike standard LSTM, the input flows in both directions, and it’s capable of utilizing information from both sides.\n",
        "\n",
        "In summary, BiLSTM adds one more LSTM layer, which reverses the direction of information flow, meaning that the input sequence flows backward in the additional LSTM layer."
      ],
      "metadata": {
        "id": "sndHLTbbpFwk"
      }
    },
    {
      "cell_type": "code",
      "source": [
        "#BidirectionalLSTM model\n",
        "def build_bdlstm(n_units, lr):\n",
        "\n",
        "  model = Sequential()\n",
        "  #model_LSTM.add(Input(shape=(None,), dtype='int32'))\n",
        "  model.add(embedding_layer)\n",
        "  model.add(Bidirectional(LSTM(n_units, return_sequences=True, dropout=0.8, name='lstm_layer')))\n",
        "  model.add(Flatten())\n",
        "  model.add(Dense(1, activation='sigmoid'))\n",
        "\n",
        "  model.compile(optimizer=tf.keras.optimizers.Adam(learning_rate=lr),\n",
        "                     loss='binary_crossentropy',\n",
        "                     metrics = ['accuracy'])\n",
        "\n",
        "  return model"
      ],
      "metadata": {
        "id": "kZKKhIs-pE-Q"
      },
      "execution_count": null,
      "outputs": []
    },
    {
      "cell_type": "code",
      "source": [
        "histories = []\n",
        "min_loss = 0\n",
        "parameters = {}\n",
        "\n",
        "for i in range(len(params['n_units'])):\n",
        "  for j in range(len(params['lr'])):\n",
        "    model=build_bdlstm(params['n_units'][i], params['lr'][j])\n",
        "\n",
        "    history = model.fit(x_train, y_train,\n",
        "                                epochs = 10,\n",
        "                                batch_size=16,\n",
        "                                validation_data=(x_val, y_val),\n",
        "                                shuffle=True,\n",
        "                                callbacks = [earlystopping],\n",
        "                                class_weight = class_weights)\n",
        "    # convert the history.history dict to a pandas DataFrame:\n",
        "    hist_df = pd.DataFrame(history.history)\n",
        "    histories.append(hist_df)\n",
        "    if i==0 and j==0:\n",
        "      min_loss = hist_df['loss'].min()\n",
        "      print('First minimum loss:', min_loss)\n",
        "    else:\n",
        "      if hist_df['loss'].min() < min_loss:\n",
        "        min_loss = hist_df['loss'].min()\n",
        "        parameters[0] = i\n",
        "        parameters[1] = j\n",
        "        print('Minimum loss until now:', min_loss, 'parameters:', parameters)\n"
      ],
      "metadata": {
        "colab": {
          "base_uri": "https://localhost:8080/"
        },
        "id": "Jd0pMyAkNQCt",
        "outputId": "05523c0f-5e20-4f13-f377-e01729255468"
      },
      "execution_count": null,
      "outputs": [
        {
          "output_type": "stream",
          "name": "stdout",
          "text": [
            "Epoch 1/10\n",
            "1088/1088 [==============================] - 326s 289ms/step - loss: 7.5741 - accuracy: 0.6654 - val_loss: 5.3221 - val_accuracy: 0.8224\n",
            "Epoch 2/10\n",
            "1088/1088 [==============================] - 307s 282ms/step - loss: 9.2211 - accuracy: 0.7160 - val_loss: 5.0000 - val_accuracy: 0.8557\n",
            "Epoch 3/10\n",
            "1088/1088 [==============================] - 303s 278ms/step - loss: 9.1312 - accuracy: 0.7398 - val_loss: 5.0000 - val_accuracy: 0.8773\n",
            "First minimum loss: 7.574073314666748\n",
            "Epoch 1/10\n",
            "1088/1088 [==============================] - 317s 283ms/step - loss: 0.6703 - accuracy: 0.7764 - val_loss: 0.4066 - val_accuracy: 0.9189\n",
            "Epoch 2/10\n",
            "1088/1088 [==============================] - 300s 275ms/step - loss: 0.6914 - accuracy: 0.8407 - val_loss: 0.4250 - val_accuracy: 0.9292\n",
            "Minimum loss until now: 0.6702916026115417 parameters: {0: 0, 1: 1}\n",
            "Epoch 1/10\n",
            "1088/1088 [==============================] - 334s 297ms/step - loss: 0.4901 - accuracy: 0.7505 - val_loss: 0.2040 - val_accuracy: 0.9281\n",
            "Epoch 2/10\n",
            "1088/1088 [==============================] - 309s 284ms/step - loss: 0.2678 - accuracy: 0.8953 - val_loss: 0.1925 - val_accuracy: 0.9399\n",
            "Epoch 3/10\n",
            "1088/1088 [==============================] - 309s 284ms/step - loss: 0.2231 - accuracy: 0.9140 - val_loss: 0.1725 - val_accuracy: 0.9504\n",
            "Epoch 4/10\n",
            "1088/1088 [==============================] - 308s 283ms/step - loss: 0.2124 - accuracy: 0.9191 - val_loss: 0.1618 - val_accuracy: 0.9551\n",
            "Epoch 5/10\n",
            "1088/1088 [==============================] - 307s 283ms/step - loss: 0.1943 - accuracy: 0.9279 - val_loss: 0.1749 - val_accuracy: 0.9527\n",
            "Minimum loss until now: 0.1943148672580719 parameters: {0: 0, 1: 2}\n",
            "Epoch 1/10\n",
            "1088/1088 [==============================] - 363s 325ms/step - loss: 14.4311 - accuracy: 0.6950 - val_loss: 9.3981 - val_accuracy: 0.8805\n",
            "Epoch 2/10\n",
            "1088/1088 [==============================] - 370s 339ms/step - loss: 18.9824 - accuracy: 0.7627 - val_loss: 11.6198 - val_accuracy: 0.8895\n",
            "Epoch 1/10\n",
            "1088/1088 [==============================] - 401s 357ms/step - loss: 0.9737 - accuracy: 0.8131 - val_loss: 0.6495 - val_accuracy: 0.9370\n",
            "Epoch 2/10\n",
            "1088/1088 [==============================] - 394s 362ms/step - loss: 1.2307 - accuracy: 0.8633 - val_loss: 0.8434 - val_accuracy: 0.9425\n",
            "Epoch 1/10\n",
            "1088/1088 [==============================] - 384s 343ms/step - loss: 0.3870 - accuracy: 0.8209 - val_loss: 0.1862 - val_accuracy: 0.9447\n",
            "Epoch 2/10\n",
            "1088/1088 [==============================] - 347s 319ms/step - loss: 0.2197 - accuracy: 0.9175 - val_loss: 0.1887 - val_accuracy: 0.9515\n",
            "Epoch 1/10\n",
            "1088/1088 [==============================] - 459s 410ms/step - loss: 18.1401 - accuracy: 0.7267 - val_loss: 10.9890 - val_accuracy: 0.9075\n",
            "Epoch 2/10\n",
            "1088/1088 [==============================] - 420s 386ms/step - loss: 21.5086 - accuracy: 0.8012 - val_loss: 14.4663 - val_accuracy: 0.9115\n",
            "Epoch 1/10\n",
            "1088/1088 [==============================] - 407s 365ms/step - loss: 1.3308 - accuracy: 0.8074 - val_loss: 0.8687 - val_accuracy: 0.9355\n",
            "Epoch 2/10\n",
            "1088/1088 [==============================] - 402s 370ms/step - loss: 1.6732 - accuracy: 0.8630 - val_loss: 1.1902 - val_accuracy: 0.9418\n",
            "Epoch 1/10\n",
            "1088/1088 [==============================] - 451s 403ms/step - loss: 0.3165 - accuracy: 0.8643 - val_loss: 0.2245 - val_accuracy: 0.9429\n",
            "Epoch 2/10\n",
            "1088/1088 [==============================] - 424s 389ms/step - loss: 0.2068 - accuracy: 0.9245 - val_loss: 0.2467 - val_accuracy: 0.9496\n"
          ]
        }
      ]
    },
    {
      "cell_type": "code",
      "source": [
        "i = parameters[0]\n",
        "j = parameters[1]\n",
        "\n",
        "model=build_bdlstm(params['n_units'][i], params['lr'][j])\n",
        "\n",
        "history = model.fit(x_train, y_train,\n",
        "                            epochs = 10,\n",
        "                            batch_size=128,\n",
        "                            validation_data=(x_val, y_val),\n",
        "                            shuffle=True,\n",
        "                            callbacks = [earlystopping])\n",
        "epoch = history.epoch\n",
        "plot_loss(history)\n",
        "plot_acc(history, epoch)"
      ],
      "metadata": {
        "id": "ePFi3YWqTXt6",
        "colab": {
          "base_uri": "https://localhost:8080/",
          "height": 1000
        },
        "outputId": "f639a5c9-efc0-43ad-c493-754ebf09ad07"
      },
      "execution_count": null,
      "outputs": [
        {
          "output_type": "stream",
          "name": "stdout",
          "text": [
            "Epoch 1/10\n",
            "136/136 [==============================] - 79s 514ms/step - loss: 0.6389 - accuracy: 0.6338 - val_loss: 0.4192 - val_accuracy: 0.8454\n",
            "Epoch 2/10\n",
            "136/136 [==============================] - 65s 478ms/step - loss: 0.4403 - accuracy: 0.8108 - val_loss: 0.2556 - val_accuracy: 0.9067\n",
            "Epoch 3/10\n",
            "136/136 [==============================] - 69s 512ms/step - loss: 0.3035 - accuracy: 0.8818 - val_loss: 0.2088 - val_accuracy: 0.9276\n",
            "Epoch 4/10\n",
            "136/136 [==============================] - 66s 486ms/step - loss: 0.2488 - accuracy: 0.9035 - val_loss: 0.1888 - val_accuracy: 0.9391\n",
            "Epoch 5/10\n",
            "136/136 [==============================] - 67s 492ms/step - loss: 0.2242 - accuracy: 0.9133 - val_loss: 0.1793 - val_accuracy: 0.9452\n",
            "Epoch 6/10\n",
            "136/136 [==============================] - 72s 528ms/step - loss: 0.2052 - accuracy: 0.9225 - val_loss: 0.1796 - val_accuracy: 0.9466\n"
          ]
        },
        {
          "output_type": "display_data",
          "data": {
            "text/plain": [
              "<Figure size 640x480 with 1 Axes>"
            ],
            "image/png": "[encoded data removed]"
          },
          "metadata": {}
        },
        {
          "output_type": "display_data",
          "data": {
            "text/plain": [
              "<Figure size 640x480 with 1 Axes>"
            ],
            "image/png": "[encoded data removed]"
          },
          "metadata": {}
        }
      ]
    },
    {
      "cell_type": "code",
      "source": [
        "print(\"Evaluate model on test data\")\n",
        "model=build_bdlstm(params['n_units'][i], params['lr'][j])\n",
        "results = model.evaluate(x_test, y_test)\n",
        "print(\"test loss, test acc:\", results)"
      ],
      "metadata": {
        "id": "JlcYfNGfTXt6",
        "colab": {
          "base_uri": "https://localhost:8080/"
        },
        "outputId": "9a0a0398-5868-4d41-85bd-62e9faf85c6a"
      },
      "execution_count": null,
      "outputs": [
        {
          "output_type": "stream",
          "name": "stdout",
          "text": [
            "Evaluate model on test data\n",
            "333/333 [==============================] - 26s 54ms/step - loss: 0.7233 - accuracy: 0.4959\n",
            "test loss, test acc: [0.7233254313468933, 0.49586930871009827]\n"
          ]
        }
      ]
    },
    {
      "cell_type": "code",
      "source": [
        "# Generate a prediction using model.predict()\n",
        "# and calculate its shape:\n",
        "print(\"Generate a prediction\")\n",
        "prediction = model.predict(x_test)\n",
        "print(\"prediction shape:\", prediction.shape)"
      ],
      "metadata": {
        "id": "qz8nCvwyTXt6",
        "colab": {
          "base_uri": "https://localhost:8080/"
        },
        "outputId": "34d30c5d-8c64-4143-90e0-737f03e144d2"
      },
      "execution_count": null,
      "outputs": [
        {
          "output_type": "stream",
          "name": "stdout",
          "text": [
            "Generate a prediction\n",
            "333/333 [==============================] - 20s 51ms/step\n",
            "prediction shape: (10652, 1)\n"
          ]
        }
      ]
    },
    {
      "cell_type": "code",
      "source": [
        "y_pred = []\n",
        "\n",
        "for i in prediction:\n",
        "  if i >= 0.5:\n",
        "    y_pred.append(1)\n",
        "  else:\n",
        "    y_pred.append(0)"
      ],
      "metadata": {
        "id": "wnuaydq9Y-g5"
      },
      "execution_count": null,
      "outputs": []
    },
    {
      "cell_type": "code",
      "source": [
        "#from sklearn.metrics import accuracy_score, precision_score, recall_score, confusion_matrix\n",
        "\n",
        "print('Accuracy on test set:', accuracy_score(y_pred, y_test))\n",
        "print('Precision on test set:', precision_score(y_pred, y_test))\n",
        "print('Recall on test set:', recall_score(y_pred, y_test))"
      ],
      "metadata": {
        "id": "vIqRzLkfpmtY",
        "colab": {
          "base_uri": "https://localhost:8080/"
        },
        "outputId": "6457a7df-3920-4e81-d5e5-c2b030298428"
      },
      "execution_count": null,
      "outputs": [
        {
          "output_type": "stream",
          "name": "stdout",
          "text": [
            "Accuracy on test set: 0.49586932031543374\n",
            "Precision on test set: 0.44389555398729713\n",
            "Recall on test set: 0.38565297363580625\n"
          ]
        }
      ]
    },
    {
      "cell_type": "code",
      "source": [
        "confusion_matrix(y_pred, y_test)"
      ],
      "metadata": {
        "id": "hlc4rE2Spo8d",
        "colab": {
          "base_uri": "https://localhost:8080/"
        },
        "outputId": "74a54ad8-27ec-4990-8029-16fb353f1a3d"
      },
      "execution_count": null,
      "outputs": [
        {
          "output_type": "execute_result",
          "data": {
            "text/plain": [
              "array([[3395, 2364],\n",
              "       [3006, 1887]])"
            ]
          },
          "metadata": {},
          "execution_count": 96
        }
      ]
    },
    {
      "cell_type": "markdown",
      "source": [
        "# Final considerations"
      ],
      "metadata": {
        "id": "tHjAEACtYShf"
      }
    },
    {
      "cell_type": "markdown",
      "source": [
        "The decision to test LSTM models stems from their peculiar adaptability, due to their ability to store what is considered to be important information. In this project, a Unidirectional LSTM and a Bidirectional LSTM were compared in order to see which one actually was the best fit for a binary text classification task.\n",
        "\n",
        "The results tell us that this model has a tendency to overfit, as a broader and heavier grid search for hyperparameters is surely needed. Another useful observation could be directred to the data preprocessing, which might also be expanded even though not absolutely necessary: a text vectorization might be a good solution, often useful before applying the word embeddings to the dataset, in order to help the network lighten as much as possible.\n",
        "\n",
        "Surely, a downside of this otherwise very efficient model (and all its variants) is the time and computational complexity that brings with it and that slow maybe too much all the work.\n",
        "\n",
        "In the development of this project, the intention was to look at networks that had already been tested and approved for Natural Language processing as a study experiment, but a very interesting future approach could be a shift to extremely elastic models such as Bayesian Networks, which would have on its side its probabilistic nature, excellent for emulating semantic analysis and the relationship between words for classification purposes.\n",
        "\n",
        "\n",
        "Or again, as suggested in the paper [*Detecting Fake News With Machine Learning*](https://iopscience.iop.org/article/10.1088/1742-6596/1693/1/012158/pdf) (Jeffrey Huang 2020 J. Phys.: Conf. Ser. 1693 012158), a shift to complex networks such as Convolutional Neural Networks, which might be fit for the task considering that, in poor words, a CNN basically joins sets of information. Sliding the filter (or kernel) over the word embeddings to find convolutions might be a practical and good solution, and the fact that these are further dimensionally reduced through the Max Pooling layer reduces complexity and computation and improves drastically the heaviness of LSTM computations, BiLSTM especially.\n"
      ],
      "metadata": {
        "id": "wx8tP2EVzr_b"
      }
    }
  ],
  "metadata": {
    "colab": {
      "provenance": [],
      "gpuType": "T4",
      "mount_file_id": "1xUKZwCwfoEjgR2b_nKV4rp5eVSAB6emG",
      "authorship_tag": "ABX9TyPpjh05Gw8cq+Uq7RcWIeNP",
      "include_colab_link": true
    },
    "gpuClass": "standard",
    "kernelspec": {
      "display_name": "Python 3",
      "name": "python3"
    },
    "language_info": {
      "name": "python"
    },
    "accelerator": "GPU"
  },
  "nbformat": 4,
  "nbformat_minor": 0
}